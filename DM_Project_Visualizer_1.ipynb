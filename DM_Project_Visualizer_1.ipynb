{
  "nbformat": 4,
  "nbformat_minor": 0,
  "metadata": {
    "colab": {
      "name": "DM_Project_Visualizer_di3go.ipynb",
      "provenance": [],
      "collapsed_sections": []
    },
    "kernelspec": {
      "name": "python3",
      "display_name": "Python 3"
    },
    "widgets": {
      "application/vnd.jupyter.widget-state+json": {
        "78364911d4b44b5da2590ed407d53032": {
          "model_module": "@jupyter-widgets/controls",
          "model_name": "HBoxModel",
          "state": {
            "_view_name": "HBoxView",
            "_dom_classes": [],
            "_model_name": "HBoxModel",
            "_view_module": "@jupyter-widgets/controls",
            "_model_module_version": "1.5.0",
            "_view_count": null,
            "_view_module_version": "1.5.0",
            "box_style": "",
            "layout": "IPY_MODEL_3eb38fb97e46479fba8bc54165e33800",
            "_model_module": "@jupyter-widgets/controls",
            "children": [
              "IPY_MODEL_a176b929c60a45f58137d560c5e3ca76",
              "IPY_MODEL_258e0f864b2b4a80a76474fb353c05ee"
            ]
          }
        },
        "3eb38fb97e46479fba8bc54165e33800": {
          "model_module": "@jupyter-widgets/base",
          "model_name": "LayoutModel",
          "state": {
            "_view_name": "LayoutView",
            "grid_template_rows": null,
            "right": null,
            "justify_content": null,
            "_view_module": "@jupyter-widgets/base",
            "overflow": null,
            "_model_module_version": "1.2.0",
            "_view_count": null,
            "flex_flow": null,
            "width": null,
            "min_width": null,
            "border": null,
            "align_items": null,
            "bottom": null,
            "_model_module": "@jupyter-widgets/base",
            "top": null,
            "grid_column": null,
            "overflow_y": null,
            "overflow_x": null,
            "grid_auto_flow": null,
            "grid_area": null,
            "grid_template_columns": null,
            "flex": null,
            "_model_name": "LayoutModel",
            "justify_items": null,
            "grid_row": null,
            "max_height": null,
            "align_content": null,
            "visibility": null,
            "align_self": null,
            "height": null,
            "min_height": null,
            "padding": null,
            "grid_auto_rows": null,
            "grid_gap": null,
            "max_width": null,
            "order": null,
            "_view_module_version": "1.2.0",
            "grid_template_areas": null,
            "object_position": null,
            "object_fit": null,
            "grid_auto_columns": null,
            "margin": null,
            "display": null,
            "left": null
          }
        },
        "a176b929c60a45f58137d560c5e3ca76": {
          "model_module": "@jupyter-widgets/controls",
          "model_name": "FloatProgressModel",
          "state": {
            "_view_name": "ProgressView",
            "style": "IPY_MODEL_a4c16b0038ac4ef58b3313f07e90535e",
            "_dom_classes": [],
            "description": "100%",
            "_model_name": "FloatProgressModel",
            "bar_style": "success",
            "max": 53,
            "_view_module": "@jupyter-widgets/controls",
            "_model_module_version": "1.5.0",
            "value": 53,
            "_view_count": null,
            "_view_module_version": "1.5.0",
            "orientation": "horizontal",
            "min": 0,
            "description_tooltip": null,
            "_model_module": "@jupyter-widgets/controls",
            "layout": "IPY_MODEL_8346d2b7188f4dc5af4ec937b15e7576"
          }
        },
        "258e0f864b2b4a80a76474fb353c05ee": {
          "model_module": "@jupyter-widgets/controls",
          "model_name": "HTMLModel",
          "state": {
            "_view_name": "HTMLView",
            "style": "IPY_MODEL_51a8beb673774f6b917959b0626b8d48",
            "_dom_classes": [],
            "description": "",
            "_model_name": "HTMLModel",
            "placeholder": "​",
            "_view_module": "@jupyter-widgets/controls",
            "_model_module_version": "1.5.0",
            "value": " 53/53 [01:26&lt;00:00,  1.63s/it]",
            "_view_count": null,
            "_view_module_version": "1.5.0",
            "description_tooltip": null,
            "_model_module": "@jupyter-widgets/controls",
            "layout": "IPY_MODEL_93be8bbe05b7446a91ca79cfcc013070"
          }
        },
        "a4c16b0038ac4ef58b3313f07e90535e": {
          "model_module": "@jupyter-widgets/controls",
          "model_name": "ProgressStyleModel",
          "state": {
            "_view_name": "StyleView",
            "_model_name": "ProgressStyleModel",
            "description_width": "initial",
            "_view_module": "@jupyter-widgets/base",
            "_model_module_version": "1.5.0",
            "_view_count": null,
            "_view_module_version": "1.2.0",
            "bar_color": null,
            "_model_module": "@jupyter-widgets/controls"
          }
        },
        "8346d2b7188f4dc5af4ec937b15e7576": {
          "model_module": "@jupyter-widgets/base",
          "model_name": "LayoutModel",
          "state": {
            "_view_name": "LayoutView",
            "grid_template_rows": null,
            "right": null,
            "justify_content": null,
            "_view_module": "@jupyter-widgets/base",
            "overflow": null,
            "_model_module_version": "1.2.0",
            "_view_count": null,
            "flex_flow": null,
            "width": null,
            "min_width": null,
            "border": null,
            "align_items": null,
            "bottom": null,
            "_model_module": "@jupyter-widgets/base",
            "top": null,
            "grid_column": null,
            "overflow_y": null,
            "overflow_x": null,
            "grid_auto_flow": null,
            "grid_area": null,
            "grid_template_columns": null,
            "flex": null,
            "_model_name": "LayoutModel",
            "justify_items": null,
            "grid_row": null,
            "max_height": null,
            "align_content": null,
            "visibility": null,
            "align_self": null,
            "height": null,
            "min_height": null,
            "padding": null,
            "grid_auto_rows": null,
            "grid_gap": null,
            "max_width": null,
            "order": null,
            "_view_module_version": "1.2.0",
            "grid_template_areas": null,
            "object_position": null,
            "object_fit": null,
            "grid_auto_columns": null,
            "margin": null,
            "display": null,
            "left": null
          }
        },
        "51a8beb673774f6b917959b0626b8d48": {
          "model_module": "@jupyter-widgets/controls",
          "model_name": "DescriptionStyleModel",
          "state": {
            "_view_name": "StyleView",
            "_model_name": "DescriptionStyleModel",
            "description_width": "",
            "_view_module": "@jupyter-widgets/base",
            "_model_module_version": "1.5.0",
            "_view_count": null,
            "_view_module_version": "1.2.0",
            "_model_module": "@jupyter-widgets/controls"
          }
        },
        "93be8bbe05b7446a91ca79cfcc013070": {
          "model_module": "@jupyter-widgets/base",
          "model_name": "LayoutModel",
          "state": {
            "_view_name": "LayoutView",
            "grid_template_rows": null,
            "right": null,
            "justify_content": null,
            "_view_module": "@jupyter-widgets/base",
            "overflow": null,
            "_model_module_version": "1.2.0",
            "_view_count": null,
            "flex_flow": null,
            "width": null,
            "min_width": null,
            "border": null,
            "align_items": null,
            "bottom": null,
            "_model_module": "@jupyter-widgets/base",
            "top": null,
            "grid_column": null,
            "overflow_y": null,
            "overflow_x": null,
            "grid_auto_flow": null,
            "grid_area": null,
            "grid_template_columns": null,
            "flex": null,
            "_model_name": "LayoutModel",
            "justify_items": null,
            "grid_row": null,
            "max_height": null,
            "align_content": null,
            "visibility": null,
            "align_self": null,
            "height": null,
            "min_height": null,
            "padding": null,
            "grid_auto_rows": null,
            "grid_gap": null,
            "max_width": null,
            "order": null,
            "_view_module_version": "1.2.0",
            "grid_template_areas": null,
            "object_position": null,
            "object_fit": null,
            "grid_auto_columns": null,
            "margin": null,
            "display": null,
            "left": null
          }
        },
        "0bbcfbc3d51d44c6ba87fe73aa1b6d23": {
          "model_module": "@jupyter-widgets/controls",
          "model_name": "HBoxModel",
          "state": {
            "_view_name": "HBoxView",
            "_dom_classes": [],
            "_model_name": "HBoxModel",
            "_view_module": "@jupyter-widgets/controls",
            "_model_module_version": "1.5.0",
            "_view_count": null,
            "_view_module_version": "1.5.0",
            "box_style": "",
            "layout": "IPY_MODEL_4fb25435a4a34f91922db5a15956dda3",
            "_model_module": "@jupyter-widgets/controls",
            "children": [
              "IPY_MODEL_dee448f802db42a6b117318a8b3f296c",
              "IPY_MODEL_9ea74485b87f457e809caa809b4b788f"
            ]
          }
        },
        "4fb25435a4a34f91922db5a15956dda3": {
          "model_module": "@jupyter-widgets/base",
          "model_name": "LayoutModel",
          "state": {
            "_view_name": "LayoutView",
            "grid_template_rows": null,
            "right": null,
            "justify_content": null,
            "_view_module": "@jupyter-widgets/base",
            "overflow": null,
            "_model_module_version": "1.2.0",
            "_view_count": null,
            "flex_flow": null,
            "width": null,
            "min_width": null,
            "border": null,
            "align_items": null,
            "bottom": null,
            "_model_module": "@jupyter-widgets/base",
            "top": null,
            "grid_column": null,
            "overflow_y": null,
            "overflow_x": null,
            "grid_auto_flow": null,
            "grid_area": null,
            "grid_template_columns": null,
            "flex": null,
            "_model_name": "LayoutModel",
            "justify_items": null,
            "grid_row": null,
            "max_height": null,
            "align_content": null,
            "visibility": null,
            "align_self": null,
            "height": null,
            "min_height": null,
            "padding": null,
            "grid_auto_rows": null,
            "grid_gap": null,
            "max_width": null,
            "order": null,
            "_view_module_version": "1.2.0",
            "grid_template_areas": null,
            "object_position": null,
            "object_fit": null,
            "grid_auto_columns": null,
            "margin": null,
            "display": null,
            "left": null
          }
        },
        "dee448f802db42a6b117318a8b3f296c": {
          "model_module": "@jupyter-widgets/controls",
          "model_name": "FloatProgressModel",
          "state": {
            "_view_name": "ProgressView",
            "style": "IPY_MODEL_78098ca975fb454a871c78b8d65e5bbe",
            "_dom_classes": [],
            "description": "100%",
            "_model_name": "FloatProgressModel",
            "bar_style": "success",
            "max": 53,
            "_view_module": "@jupyter-widgets/controls",
            "_model_module_version": "1.5.0",
            "value": 53,
            "_view_count": null,
            "_view_module_version": "1.5.0",
            "orientation": "horizontal",
            "min": 0,
            "description_tooltip": null,
            "_model_module": "@jupyter-widgets/controls",
            "layout": "IPY_MODEL_db43eb4839444d6c865958a960b428a7"
          }
        },
        "9ea74485b87f457e809caa809b4b788f": {
          "model_module": "@jupyter-widgets/controls",
          "model_name": "HTMLModel",
          "state": {
            "_view_name": "HTMLView",
            "style": "IPY_MODEL_b3e7316536644ffa945c4c3b91a7fa45",
            "_dom_classes": [],
            "description": "",
            "_model_name": "HTMLModel",
            "placeholder": "​",
            "_view_module": "@jupyter-widgets/controls",
            "_model_module_version": "1.5.0",
            "value": " 53/53 [01:00&lt;00:00,  1.13s/it]",
            "_view_count": null,
            "_view_module_version": "1.5.0",
            "description_tooltip": null,
            "_model_module": "@jupyter-widgets/controls",
            "layout": "IPY_MODEL_b91aa56b088544e3b073c06965be41e8"
          }
        },
        "78098ca975fb454a871c78b8d65e5bbe": {
          "model_module": "@jupyter-widgets/controls",
          "model_name": "ProgressStyleModel",
          "state": {
            "_view_name": "StyleView",
            "_model_name": "ProgressStyleModel",
            "description_width": "initial",
            "_view_module": "@jupyter-widgets/base",
            "_model_module_version": "1.5.0",
            "_view_count": null,
            "_view_module_version": "1.2.0",
            "bar_color": null,
            "_model_module": "@jupyter-widgets/controls"
          }
        },
        "db43eb4839444d6c865958a960b428a7": {
          "model_module": "@jupyter-widgets/base",
          "model_name": "LayoutModel",
          "state": {
            "_view_name": "LayoutView",
            "grid_template_rows": null,
            "right": null,
            "justify_content": null,
            "_view_module": "@jupyter-widgets/base",
            "overflow": null,
            "_model_module_version": "1.2.0",
            "_view_count": null,
            "flex_flow": null,
            "width": null,
            "min_width": null,
            "border": null,
            "align_items": null,
            "bottom": null,
            "_model_module": "@jupyter-widgets/base",
            "top": null,
            "grid_column": null,
            "overflow_y": null,
            "overflow_x": null,
            "grid_auto_flow": null,
            "grid_area": null,
            "grid_template_columns": null,
            "flex": null,
            "_model_name": "LayoutModel",
            "justify_items": null,
            "grid_row": null,
            "max_height": null,
            "align_content": null,
            "visibility": null,
            "align_self": null,
            "height": null,
            "min_height": null,
            "padding": null,
            "grid_auto_rows": null,
            "grid_gap": null,
            "max_width": null,
            "order": null,
            "_view_module_version": "1.2.0",
            "grid_template_areas": null,
            "object_position": null,
            "object_fit": null,
            "grid_auto_columns": null,
            "margin": null,
            "display": null,
            "left": null
          }
        },
        "b3e7316536644ffa945c4c3b91a7fa45": {
          "model_module": "@jupyter-widgets/controls",
          "model_name": "DescriptionStyleModel",
          "state": {
            "_view_name": "StyleView",
            "_model_name": "DescriptionStyleModel",
            "description_width": "",
            "_view_module": "@jupyter-widgets/base",
            "_model_module_version": "1.5.0",
            "_view_count": null,
            "_view_module_version": "1.2.0",
            "_model_module": "@jupyter-widgets/controls"
          }
        },
        "b91aa56b088544e3b073c06965be41e8": {
          "model_module": "@jupyter-widgets/base",
          "model_name": "LayoutModel",
          "state": {
            "_view_name": "LayoutView",
            "grid_template_rows": null,
            "right": null,
            "justify_content": null,
            "_view_module": "@jupyter-widgets/base",
            "overflow": null,
            "_model_module_version": "1.2.0",
            "_view_count": null,
            "flex_flow": null,
            "width": null,
            "min_width": null,
            "border": null,
            "align_items": null,
            "bottom": null,
            "_model_module": "@jupyter-widgets/base",
            "top": null,
            "grid_column": null,
            "overflow_y": null,
            "overflow_x": null,
            "grid_auto_flow": null,
            "grid_area": null,
            "grid_template_columns": null,
            "flex": null,
            "_model_name": "LayoutModel",
            "justify_items": null,
            "grid_row": null,
            "max_height": null,
            "align_content": null,
            "visibility": null,
            "align_self": null,
            "height": null,
            "min_height": null,
            "padding": null,
            "grid_auto_rows": null,
            "grid_gap": null,
            "max_width": null,
            "order": null,
            "_view_module_version": "1.2.0",
            "grid_template_areas": null,
            "object_position": null,
            "object_fit": null,
            "grid_auto_columns": null,
            "margin": null,
            "display": null,
            "left": null
          }
        },
        "571ffb7bf191422a83e7611003329fb0": {
          "model_module": "@jupyter-widgets/controls",
          "model_name": "HBoxModel",
          "state": {
            "_view_name": "HBoxView",
            "_dom_classes": [],
            "_model_name": "HBoxModel",
            "_view_module": "@jupyter-widgets/controls",
            "_model_module_version": "1.5.0",
            "_view_count": null,
            "_view_module_version": "1.5.0",
            "box_style": "",
            "layout": "IPY_MODEL_75412cedc81a42fe8b9eb741ca51c4a1",
            "_model_module": "@jupyter-widgets/controls",
            "children": [
              "IPY_MODEL_e729b657048b48d59d6c673d184b7518",
              "IPY_MODEL_5f514589681d47e59d44a23e787e2a50"
            ]
          }
        },
        "75412cedc81a42fe8b9eb741ca51c4a1": {
          "model_module": "@jupyter-widgets/base",
          "model_name": "LayoutModel",
          "state": {
            "_view_name": "LayoutView",
            "grid_template_rows": null,
            "right": null,
            "justify_content": null,
            "_view_module": "@jupyter-widgets/base",
            "overflow": null,
            "_model_module_version": "1.2.0",
            "_view_count": null,
            "flex_flow": null,
            "width": null,
            "min_width": null,
            "border": null,
            "align_items": null,
            "bottom": null,
            "_model_module": "@jupyter-widgets/base",
            "top": null,
            "grid_column": null,
            "overflow_y": null,
            "overflow_x": null,
            "grid_auto_flow": null,
            "grid_area": null,
            "grid_template_columns": null,
            "flex": null,
            "_model_name": "LayoutModel",
            "justify_items": null,
            "grid_row": null,
            "max_height": null,
            "align_content": null,
            "visibility": null,
            "align_self": null,
            "height": null,
            "min_height": null,
            "padding": null,
            "grid_auto_rows": null,
            "grid_gap": null,
            "max_width": null,
            "order": null,
            "_view_module_version": "1.2.0",
            "grid_template_areas": null,
            "object_position": null,
            "object_fit": null,
            "grid_auto_columns": null,
            "margin": null,
            "display": null,
            "left": null
          }
        },
        "e729b657048b48d59d6c673d184b7518": {
          "model_module": "@jupyter-widgets/controls",
          "model_name": "FloatProgressModel",
          "state": {
            "_view_name": "ProgressView",
            "style": "IPY_MODEL_fab24d14cf3a46188383e0ffc407d8f3",
            "_dom_classes": [],
            "description": "100%",
            "_model_name": "FloatProgressModel",
            "bar_style": "success",
            "max": 85,
            "_view_module": "@jupyter-widgets/controls",
            "_model_module_version": "1.5.0",
            "value": 85,
            "_view_count": null,
            "_view_module_version": "1.5.0",
            "orientation": "horizontal",
            "min": 0,
            "description_tooltip": null,
            "_model_module": "@jupyter-widgets/controls",
            "layout": "IPY_MODEL_74d9ba352bb94da9af0f8d9417381237"
          }
        },
        "5f514589681d47e59d44a23e787e2a50": {
          "model_module": "@jupyter-widgets/controls",
          "model_name": "HTMLModel",
          "state": {
            "_view_name": "HTMLView",
            "style": "IPY_MODEL_c882b5156b86414da8999667c6f7bc9c",
            "_dom_classes": [],
            "description": "",
            "_model_name": "HTMLModel",
            "placeholder": "​",
            "_view_module": "@jupyter-widgets/controls",
            "_model_module_version": "1.5.0",
            "value": " 85/85 [03:42&lt;00:00,  2.62s/it]",
            "_view_count": null,
            "_view_module_version": "1.5.0",
            "description_tooltip": null,
            "_model_module": "@jupyter-widgets/controls",
            "layout": "IPY_MODEL_ef40874439ab4d6481fc53502e39cddc"
          }
        },
        "fab24d14cf3a46188383e0ffc407d8f3": {
          "model_module": "@jupyter-widgets/controls",
          "model_name": "ProgressStyleModel",
          "state": {
            "_view_name": "StyleView",
            "_model_name": "ProgressStyleModel",
            "description_width": "initial",
            "_view_module": "@jupyter-widgets/base",
            "_model_module_version": "1.5.0",
            "_view_count": null,
            "_view_module_version": "1.2.0",
            "bar_color": null,
            "_model_module": "@jupyter-widgets/controls"
          }
        },
        "74d9ba352bb94da9af0f8d9417381237": {
          "model_module": "@jupyter-widgets/base",
          "model_name": "LayoutModel",
          "state": {
            "_view_name": "LayoutView",
            "grid_template_rows": null,
            "right": null,
            "justify_content": null,
            "_view_module": "@jupyter-widgets/base",
            "overflow": null,
            "_model_module_version": "1.2.0",
            "_view_count": null,
            "flex_flow": null,
            "width": null,
            "min_width": null,
            "border": null,
            "align_items": null,
            "bottom": null,
            "_model_module": "@jupyter-widgets/base",
            "top": null,
            "grid_column": null,
            "overflow_y": null,
            "overflow_x": null,
            "grid_auto_flow": null,
            "grid_area": null,
            "grid_template_columns": null,
            "flex": null,
            "_model_name": "LayoutModel",
            "justify_items": null,
            "grid_row": null,
            "max_height": null,
            "align_content": null,
            "visibility": null,
            "align_self": null,
            "height": null,
            "min_height": null,
            "padding": null,
            "grid_auto_rows": null,
            "grid_gap": null,
            "max_width": null,
            "order": null,
            "_view_module_version": "1.2.0",
            "grid_template_areas": null,
            "object_position": null,
            "object_fit": null,
            "grid_auto_columns": null,
            "margin": null,
            "display": null,
            "left": null
          }
        },
        "c882b5156b86414da8999667c6f7bc9c": {
          "model_module": "@jupyter-widgets/controls",
          "model_name": "DescriptionStyleModel",
          "state": {
            "_view_name": "StyleView",
            "_model_name": "DescriptionStyleModel",
            "description_width": "",
            "_view_module": "@jupyter-widgets/base",
            "_model_module_version": "1.5.0",
            "_view_count": null,
            "_view_module_version": "1.2.0",
            "_model_module": "@jupyter-widgets/controls"
          }
        },
        "ef40874439ab4d6481fc53502e39cddc": {
          "model_module": "@jupyter-widgets/base",
          "model_name": "LayoutModel",
          "state": {
            "_view_name": "LayoutView",
            "grid_template_rows": null,
            "right": null,
            "justify_content": null,
            "_view_module": "@jupyter-widgets/base",
            "overflow": null,
            "_model_module_version": "1.2.0",
            "_view_count": null,
            "flex_flow": null,
            "width": null,
            "min_width": null,
            "border": null,
            "align_items": null,
            "bottom": null,
            "_model_module": "@jupyter-widgets/base",
            "top": null,
            "grid_column": null,
            "overflow_y": null,
            "overflow_x": null,
            "grid_auto_flow": null,
            "grid_area": null,
            "grid_template_columns": null,
            "flex": null,
            "_model_name": "LayoutModel",
            "justify_items": null,
            "grid_row": null,
            "max_height": null,
            "align_content": null,
            "visibility": null,
            "align_self": null,
            "height": null,
            "min_height": null,
            "padding": null,
            "grid_auto_rows": null,
            "grid_gap": null,
            "max_width": null,
            "order": null,
            "_view_module_version": "1.2.0",
            "grid_template_areas": null,
            "object_position": null,
            "object_fit": null,
            "grid_auto_columns": null,
            "margin": null,
            "display": null,
            "left": null
          }
        },
        "a247ebe9ee284adab46d31340e5f540e": {
          "model_module": "@jupyter-widgets/controls",
          "model_name": "HBoxModel",
          "state": {
            "_view_name": "HBoxView",
            "_dom_classes": [],
            "_model_name": "HBoxModel",
            "_view_module": "@jupyter-widgets/controls",
            "_model_module_version": "1.5.0",
            "_view_count": null,
            "_view_module_version": "1.5.0",
            "box_style": "",
            "layout": "IPY_MODEL_cd4c66663d1d49b7a85b53539d965e0f",
            "_model_module": "@jupyter-widgets/controls",
            "children": [
              "IPY_MODEL_9b2e205893884ff3beaefa29ae05b6c0",
              "IPY_MODEL_c7ba7ba5af5f45918190f328d03ffea2"
            ]
          }
        },
        "cd4c66663d1d49b7a85b53539d965e0f": {
          "model_module": "@jupyter-widgets/base",
          "model_name": "LayoutModel",
          "state": {
            "_view_name": "LayoutView",
            "grid_template_rows": null,
            "right": null,
            "justify_content": null,
            "_view_module": "@jupyter-widgets/base",
            "overflow": null,
            "_model_module_version": "1.2.0",
            "_view_count": null,
            "flex_flow": null,
            "width": null,
            "min_width": null,
            "border": null,
            "align_items": null,
            "bottom": null,
            "_model_module": "@jupyter-widgets/base",
            "top": null,
            "grid_column": null,
            "overflow_y": null,
            "overflow_x": null,
            "grid_auto_flow": null,
            "grid_area": null,
            "grid_template_columns": null,
            "flex": null,
            "_model_name": "LayoutModel",
            "justify_items": null,
            "grid_row": null,
            "max_height": null,
            "align_content": null,
            "visibility": null,
            "align_self": null,
            "height": null,
            "min_height": null,
            "padding": null,
            "grid_auto_rows": null,
            "grid_gap": null,
            "max_width": null,
            "order": null,
            "_view_module_version": "1.2.0",
            "grid_template_areas": null,
            "object_position": null,
            "object_fit": null,
            "grid_auto_columns": null,
            "margin": null,
            "display": null,
            "left": null
          }
        },
        "9b2e205893884ff3beaefa29ae05b6c0": {
          "model_module": "@jupyter-widgets/controls",
          "model_name": "FloatProgressModel",
          "state": {
            "_view_name": "ProgressView",
            "style": "IPY_MODEL_52b3e61a5b3b42538bc47a2a38f918ca",
            "_dom_classes": [],
            "description": "100%",
            "_model_name": "FloatProgressModel",
            "bar_style": "success",
            "max": 85,
            "_view_module": "@jupyter-widgets/controls",
            "_model_module_version": "1.5.0",
            "value": 85,
            "_view_count": null,
            "_view_module_version": "1.5.0",
            "orientation": "horizontal",
            "min": 0,
            "description_tooltip": null,
            "_model_module": "@jupyter-widgets/controls",
            "layout": "IPY_MODEL_7c9710ff83074e23af8e4836bfb4a692"
          }
        },
        "c7ba7ba5af5f45918190f328d03ffea2": {
          "model_module": "@jupyter-widgets/controls",
          "model_name": "HTMLModel",
          "state": {
            "_view_name": "HTMLView",
            "style": "IPY_MODEL_883e8a07a6b44a4e823b8c9e2c3d7582",
            "_dom_classes": [],
            "description": "",
            "_model_name": "HTMLModel",
            "placeholder": "​",
            "_view_module": "@jupyter-widgets/controls",
            "_model_module_version": "1.5.0",
            "value": " 85/85 [03:07&lt;00:00,  2.21s/it]",
            "_view_count": null,
            "_view_module_version": "1.5.0",
            "description_tooltip": null,
            "_model_module": "@jupyter-widgets/controls",
            "layout": "IPY_MODEL_99ce222e29d349dc8a30f30a9ef32146"
          }
        },
        "52b3e61a5b3b42538bc47a2a38f918ca": {
          "model_module": "@jupyter-widgets/controls",
          "model_name": "ProgressStyleModel",
          "state": {
            "_view_name": "StyleView",
            "_model_name": "ProgressStyleModel",
            "description_width": "initial",
            "_view_module": "@jupyter-widgets/base",
            "_model_module_version": "1.5.0",
            "_view_count": null,
            "_view_module_version": "1.2.0",
            "bar_color": null,
            "_model_module": "@jupyter-widgets/controls"
          }
        },
        "7c9710ff83074e23af8e4836bfb4a692": {
          "model_module": "@jupyter-widgets/base",
          "model_name": "LayoutModel",
          "state": {
            "_view_name": "LayoutView",
            "grid_template_rows": null,
            "right": null,
            "justify_content": null,
            "_view_module": "@jupyter-widgets/base",
            "overflow": null,
            "_model_module_version": "1.2.0",
            "_view_count": null,
            "flex_flow": null,
            "width": null,
            "min_width": null,
            "border": null,
            "align_items": null,
            "bottom": null,
            "_model_module": "@jupyter-widgets/base",
            "top": null,
            "grid_column": null,
            "overflow_y": null,
            "overflow_x": null,
            "grid_auto_flow": null,
            "grid_area": null,
            "grid_template_columns": null,
            "flex": null,
            "_model_name": "LayoutModel",
            "justify_items": null,
            "grid_row": null,
            "max_height": null,
            "align_content": null,
            "visibility": null,
            "align_self": null,
            "height": null,
            "min_height": null,
            "padding": null,
            "grid_auto_rows": null,
            "grid_gap": null,
            "max_width": null,
            "order": null,
            "_view_module_version": "1.2.0",
            "grid_template_areas": null,
            "object_position": null,
            "object_fit": null,
            "grid_auto_columns": null,
            "margin": null,
            "display": null,
            "left": null
          }
        },
        "883e8a07a6b44a4e823b8c9e2c3d7582": {
          "model_module": "@jupyter-widgets/controls",
          "model_name": "DescriptionStyleModel",
          "state": {
            "_view_name": "StyleView",
            "_model_name": "DescriptionStyleModel",
            "description_width": "",
            "_view_module": "@jupyter-widgets/base",
            "_model_module_version": "1.5.0",
            "_view_count": null,
            "_view_module_version": "1.2.0",
            "_model_module": "@jupyter-widgets/controls"
          }
        },
        "99ce222e29d349dc8a30f30a9ef32146": {
          "model_module": "@jupyter-widgets/base",
          "model_name": "LayoutModel",
          "state": {
            "_view_name": "LayoutView",
            "grid_template_rows": null,
            "right": null,
            "justify_content": null,
            "_view_module": "@jupyter-widgets/base",
            "overflow": null,
            "_model_module_version": "1.2.0",
            "_view_count": null,
            "flex_flow": null,
            "width": null,
            "min_width": null,
            "border": null,
            "align_items": null,
            "bottom": null,
            "_model_module": "@jupyter-widgets/base",
            "top": null,
            "grid_column": null,
            "overflow_y": null,
            "overflow_x": null,
            "grid_auto_flow": null,
            "grid_area": null,
            "grid_template_columns": null,
            "flex": null,
            "_model_name": "LayoutModel",
            "justify_items": null,
            "grid_row": null,
            "max_height": null,
            "align_content": null,
            "visibility": null,
            "align_self": null,
            "height": null,
            "min_height": null,
            "padding": null,
            "grid_auto_rows": null,
            "grid_gap": null,
            "max_width": null,
            "order": null,
            "_view_module_version": "1.2.0",
            "grid_template_areas": null,
            "object_position": null,
            "object_fit": null,
            "grid_auto_columns": null,
            "margin": null,
            "display": null,
            "left": null
          }
        },
        "dce940aa10f14045905ffe85cadc0a56": {
          "model_module": "@jupyter-widgets/controls",
          "model_name": "HBoxModel",
          "state": {
            "_view_name": "HBoxView",
            "_dom_classes": [],
            "_model_name": "HBoxModel",
            "_view_module": "@jupyter-widgets/controls",
            "_model_module_version": "1.5.0",
            "_view_count": null,
            "_view_module_version": "1.5.0",
            "box_style": "",
            "layout": "IPY_MODEL_5fe41f4f4f8245158d0bc1c42d9bf341",
            "_model_module": "@jupyter-widgets/controls",
            "children": [
              "IPY_MODEL_8d1b051f972c4b1ea8b83389d6c527b1",
              "IPY_MODEL_0968159e69e64355bcc2a93fa1d00201"
            ]
          }
        },
        "5fe41f4f4f8245158d0bc1c42d9bf341": {
          "model_module": "@jupyter-widgets/base",
          "model_name": "LayoutModel",
          "state": {
            "_view_name": "LayoutView",
            "grid_template_rows": null,
            "right": null,
            "justify_content": null,
            "_view_module": "@jupyter-widgets/base",
            "overflow": null,
            "_model_module_version": "1.2.0",
            "_view_count": null,
            "flex_flow": null,
            "width": null,
            "min_width": null,
            "border": null,
            "align_items": null,
            "bottom": null,
            "_model_module": "@jupyter-widgets/base",
            "top": null,
            "grid_column": null,
            "overflow_y": null,
            "overflow_x": null,
            "grid_auto_flow": null,
            "grid_area": null,
            "grid_template_columns": null,
            "flex": null,
            "_model_name": "LayoutModel",
            "justify_items": null,
            "grid_row": null,
            "max_height": null,
            "align_content": null,
            "visibility": null,
            "align_self": null,
            "height": null,
            "min_height": null,
            "padding": null,
            "grid_auto_rows": null,
            "grid_gap": null,
            "max_width": null,
            "order": null,
            "_view_module_version": "1.2.0",
            "grid_template_areas": null,
            "object_position": null,
            "object_fit": null,
            "grid_auto_columns": null,
            "margin": null,
            "display": null,
            "left": null
          }
        },
        "8d1b051f972c4b1ea8b83389d6c527b1": {
          "model_module": "@jupyter-widgets/controls",
          "model_name": "FloatProgressModel",
          "state": {
            "_view_name": "ProgressView",
            "style": "IPY_MODEL_e615cfdcb3ca4d5da20ecd788c3adb75",
            "_dom_classes": [],
            "description": "100%",
            "_model_name": "FloatProgressModel",
            "bar_style": "success",
            "max": 85,
            "_view_module": "@jupyter-widgets/controls",
            "_model_module_version": "1.5.0",
            "value": 85,
            "_view_count": null,
            "_view_module_version": "1.5.0",
            "orientation": "horizontal",
            "min": 0,
            "description_tooltip": null,
            "_model_module": "@jupyter-widgets/controls",
            "layout": "IPY_MODEL_5c9ca656338c4141800d9b54f6ddf668"
          }
        },
        "0968159e69e64355bcc2a93fa1d00201": {
          "model_module": "@jupyter-widgets/controls",
          "model_name": "HTMLModel",
          "state": {
            "_view_name": "HTMLView",
            "style": "IPY_MODEL_7eb76a41e8634a7fbb49dd200d2a3eae",
            "_dom_classes": [],
            "description": "",
            "_model_name": "HTMLModel",
            "placeholder": "​",
            "_view_module": "@jupyter-widgets/controls",
            "_model_module_version": "1.5.0",
            "value": " 85/85 [02:32&lt;00:00,  1.79s/it]",
            "_view_count": null,
            "_view_module_version": "1.5.0",
            "description_tooltip": null,
            "_model_module": "@jupyter-widgets/controls",
            "layout": "IPY_MODEL_ebbf2901d5c34ff3a66efac4b1b4cce1"
          }
        },
        "e615cfdcb3ca4d5da20ecd788c3adb75": {
          "model_module": "@jupyter-widgets/controls",
          "model_name": "ProgressStyleModel",
          "state": {
            "_view_name": "StyleView",
            "_model_name": "ProgressStyleModel",
            "description_width": "initial",
            "_view_module": "@jupyter-widgets/base",
            "_model_module_version": "1.5.0",
            "_view_count": null,
            "_view_module_version": "1.2.0",
            "bar_color": null,
            "_model_module": "@jupyter-widgets/controls"
          }
        },
        "5c9ca656338c4141800d9b54f6ddf668": {
          "model_module": "@jupyter-widgets/base",
          "model_name": "LayoutModel",
          "state": {
            "_view_name": "LayoutView",
            "grid_template_rows": null,
            "right": null,
            "justify_content": null,
            "_view_module": "@jupyter-widgets/base",
            "overflow": null,
            "_model_module_version": "1.2.0",
            "_view_count": null,
            "flex_flow": null,
            "width": null,
            "min_width": null,
            "border": null,
            "align_items": null,
            "bottom": null,
            "_model_module": "@jupyter-widgets/base",
            "top": null,
            "grid_column": null,
            "overflow_y": null,
            "overflow_x": null,
            "grid_auto_flow": null,
            "grid_area": null,
            "grid_template_columns": null,
            "flex": null,
            "_model_name": "LayoutModel",
            "justify_items": null,
            "grid_row": null,
            "max_height": null,
            "align_content": null,
            "visibility": null,
            "align_self": null,
            "height": null,
            "min_height": null,
            "padding": null,
            "grid_auto_rows": null,
            "grid_gap": null,
            "max_width": null,
            "order": null,
            "_view_module_version": "1.2.0",
            "grid_template_areas": null,
            "object_position": null,
            "object_fit": null,
            "grid_auto_columns": null,
            "margin": null,
            "display": null,
            "left": null
          }
        },
        "7eb76a41e8634a7fbb49dd200d2a3eae": {
          "model_module": "@jupyter-widgets/controls",
          "model_name": "DescriptionStyleModel",
          "state": {
            "_view_name": "StyleView",
            "_model_name": "DescriptionStyleModel",
            "description_width": "",
            "_view_module": "@jupyter-widgets/base",
            "_model_module_version": "1.5.0",
            "_view_count": null,
            "_view_module_version": "1.2.0",
            "_model_module": "@jupyter-widgets/controls"
          }
        },
        "ebbf2901d5c34ff3a66efac4b1b4cce1": {
          "model_module": "@jupyter-widgets/base",
          "model_name": "LayoutModel",
          "state": {
            "_view_name": "LayoutView",
            "grid_template_rows": null,
            "right": null,
            "justify_content": null,
            "_view_module": "@jupyter-widgets/base",
            "overflow": null,
            "_model_module_version": "1.2.0",
            "_view_count": null,
            "flex_flow": null,
            "width": null,
            "min_width": null,
            "border": null,
            "align_items": null,
            "bottom": null,
            "_model_module": "@jupyter-widgets/base",
            "top": null,
            "grid_column": null,
            "overflow_y": null,
            "overflow_x": null,
            "grid_auto_flow": null,
            "grid_area": null,
            "grid_template_columns": null,
            "flex": null,
            "_model_name": "LayoutModel",
            "justify_items": null,
            "grid_row": null,
            "max_height": null,
            "align_content": null,
            "visibility": null,
            "align_self": null,
            "height": null,
            "min_height": null,
            "padding": null,
            "grid_auto_rows": null,
            "grid_gap": null,
            "max_width": null,
            "order": null,
            "_view_module_version": "1.2.0",
            "grid_template_areas": null,
            "object_position": null,
            "object_fit": null,
            "grid_auto_columns": null,
            "margin": null,
            "display": null,
            "left": null
          }
        },
        "b07205f099054dd8bc7ef2334d9cec63": {
          "model_module": "@jupyter-widgets/controls",
          "model_name": "HBoxModel",
          "state": {
            "_view_name": "HBoxView",
            "_dom_classes": [],
            "_model_name": "HBoxModel",
            "_view_module": "@jupyter-widgets/controls",
            "_model_module_version": "1.5.0",
            "_view_count": null,
            "_view_module_version": "1.5.0",
            "box_style": "",
            "layout": "IPY_MODEL_8f2dc74c57434baf9739e0cbe9f49014",
            "_model_module": "@jupyter-widgets/controls",
            "children": [
              "IPY_MODEL_3d2e61cbb8654df78cb21230bd0a3a2d",
              "IPY_MODEL_05fe03387c304f51860da70d076c3c5a"
            ]
          }
        },
        "8f2dc74c57434baf9739e0cbe9f49014": {
          "model_module": "@jupyter-widgets/base",
          "model_name": "LayoutModel",
          "state": {
            "_view_name": "LayoutView",
            "grid_template_rows": null,
            "right": null,
            "justify_content": null,
            "_view_module": "@jupyter-widgets/base",
            "overflow": null,
            "_model_module_version": "1.2.0",
            "_view_count": null,
            "flex_flow": null,
            "width": null,
            "min_width": null,
            "border": null,
            "align_items": null,
            "bottom": null,
            "_model_module": "@jupyter-widgets/base",
            "top": null,
            "grid_column": null,
            "overflow_y": null,
            "overflow_x": null,
            "grid_auto_flow": null,
            "grid_area": null,
            "grid_template_columns": null,
            "flex": null,
            "_model_name": "LayoutModel",
            "justify_items": null,
            "grid_row": null,
            "max_height": null,
            "align_content": null,
            "visibility": null,
            "align_self": null,
            "height": null,
            "min_height": null,
            "padding": null,
            "grid_auto_rows": null,
            "grid_gap": null,
            "max_width": null,
            "order": null,
            "_view_module_version": "1.2.0",
            "grid_template_areas": null,
            "object_position": null,
            "object_fit": null,
            "grid_auto_columns": null,
            "margin": null,
            "display": null,
            "left": null
          }
        },
        "3d2e61cbb8654df78cb21230bd0a3a2d": {
          "model_module": "@jupyter-widgets/controls",
          "model_name": "FloatProgressModel",
          "state": {
            "_view_name": "ProgressView",
            "style": "IPY_MODEL_ab1e89f742af4b1892e408ee4caf5dcf",
            "_dom_classes": [],
            "description": "100%",
            "_model_name": "FloatProgressModel",
            "bar_style": "success",
            "max": 85,
            "_view_module": "@jupyter-widgets/controls",
            "_model_module_version": "1.5.0",
            "value": 85,
            "_view_count": null,
            "_view_module_version": "1.5.0",
            "orientation": "horizontal",
            "min": 0,
            "description_tooltip": null,
            "_model_module": "@jupyter-widgets/controls",
            "layout": "IPY_MODEL_7816c5e43b2e47cdaa55eda7947a518b"
          }
        },
        "05fe03387c304f51860da70d076c3c5a": {
          "model_module": "@jupyter-widgets/controls",
          "model_name": "HTMLModel",
          "state": {
            "_view_name": "HTMLView",
            "style": "IPY_MODEL_df61dc294d4c4bbe93c985f8408e46f0",
            "_dom_classes": [],
            "description": "",
            "_model_name": "HTMLModel",
            "placeholder": "​",
            "_view_module": "@jupyter-widgets/controls",
            "_model_module_version": "1.5.0",
            "value": " 85/85 [01:56&lt;00:00,  1.37s/it]",
            "_view_count": null,
            "_view_module_version": "1.5.0",
            "description_tooltip": null,
            "_model_module": "@jupyter-widgets/controls",
            "layout": "IPY_MODEL_29a6bdbc387944c3909782c38442d4be"
          }
        },
        "ab1e89f742af4b1892e408ee4caf5dcf": {
          "model_module": "@jupyter-widgets/controls",
          "model_name": "ProgressStyleModel",
          "state": {
            "_view_name": "StyleView",
            "_model_name": "ProgressStyleModel",
            "description_width": "initial",
            "_view_module": "@jupyter-widgets/base",
            "_model_module_version": "1.5.0",
            "_view_count": null,
            "_view_module_version": "1.2.0",
            "bar_color": null,
            "_model_module": "@jupyter-widgets/controls"
          }
        },
        "7816c5e43b2e47cdaa55eda7947a518b": {
          "model_module": "@jupyter-widgets/base",
          "model_name": "LayoutModel",
          "state": {
            "_view_name": "LayoutView",
            "grid_template_rows": null,
            "right": null,
            "justify_content": null,
            "_view_module": "@jupyter-widgets/base",
            "overflow": null,
            "_model_module_version": "1.2.0",
            "_view_count": null,
            "flex_flow": null,
            "width": null,
            "min_width": null,
            "border": null,
            "align_items": null,
            "bottom": null,
            "_model_module": "@jupyter-widgets/base",
            "top": null,
            "grid_column": null,
            "overflow_y": null,
            "overflow_x": null,
            "grid_auto_flow": null,
            "grid_area": null,
            "grid_template_columns": null,
            "flex": null,
            "_model_name": "LayoutModel",
            "justify_items": null,
            "grid_row": null,
            "max_height": null,
            "align_content": null,
            "visibility": null,
            "align_self": null,
            "height": null,
            "min_height": null,
            "padding": null,
            "grid_auto_rows": null,
            "grid_gap": null,
            "max_width": null,
            "order": null,
            "_view_module_version": "1.2.0",
            "grid_template_areas": null,
            "object_position": null,
            "object_fit": null,
            "grid_auto_columns": null,
            "margin": null,
            "display": null,
            "left": null
          }
        },
        "df61dc294d4c4bbe93c985f8408e46f0": {
          "model_module": "@jupyter-widgets/controls",
          "model_name": "DescriptionStyleModel",
          "state": {
            "_view_name": "StyleView",
            "_model_name": "DescriptionStyleModel",
            "description_width": "",
            "_view_module": "@jupyter-widgets/base",
            "_model_module_version": "1.5.0",
            "_view_count": null,
            "_view_module_version": "1.2.0",
            "_model_module": "@jupyter-widgets/controls"
          }
        },
        "29a6bdbc387944c3909782c38442d4be": {
          "model_module": "@jupyter-widgets/base",
          "model_name": "LayoutModel",
          "state": {
            "_view_name": "LayoutView",
            "grid_template_rows": null,
            "right": null,
            "justify_content": null,
            "_view_module": "@jupyter-widgets/base",
            "overflow": null,
            "_model_module_version": "1.2.0",
            "_view_count": null,
            "flex_flow": null,
            "width": null,
            "min_width": null,
            "border": null,
            "align_items": null,
            "bottom": null,
            "_model_module": "@jupyter-widgets/base",
            "top": null,
            "grid_column": null,
            "overflow_y": null,
            "overflow_x": null,
            "grid_auto_flow": null,
            "grid_area": null,
            "grid_template_columns": null,
            "flex": null,
            "_model_name": "LayoutModel",
            "justify_items": null,
            "grid_row": null,
            "max_height": null,
            "align_content": null,
            "visibility": null,
            "align_self": null,
            "height": null,
            "min_height": null,
            "padding": null,
            "grid_auto_rows": null,
            "grid_gap": null,
            "max_width": null,
            "order": null,
            "_view_module_version": "1.2.0",
            "grid_template_areas": null,
            "object_position": null,
            "object_fit": null,
            "grid_auto_columns": null,
            "margin": null,
            "display": null,
            "left": null
          }
        },
        "814b61ca09a04979b04a36b40e93ed94": {
          "model_module": "@jupyter-widgets/controls",
          "model_name": "HBoxModel",
          "state": {
            "_view_name": "HBoxView",
            "_dom_classes": [],
            "_model_name": "HBoxModel",
            "_view_module": "@jupyter-widgets/controls",
            "_model_module_version": "1.5.0",
            "_view_count": null,
            "_view_module_version": "1.5.0",
            "box_style": "",
            "layout": "IPY_MODEL_9612bd8855cf481d995dc35ea478c165",
            "_model_module": "@jupyter-widgets/controls",
            "children": [
              "IPY_MODEL_e6db2bd9ff60475cb4362e318fd8c7c5",
              "IPY_MODEL_fb28e624607d42c59efc4bfec76ebb5a"
            ]
          }
        },
        "9612bd8855cf481d995dc35ea478c165": {
          "model_module": "@jupyter-widgets/base",
          "model_name": "LayoutModel",
          "state": {
            "_view_name": "LayoutView",
            "grid_template_rows": null,
            "right": null,
            "justify_content": null,
            "_view_module": "@jupyter-widgets/base",
            "overflow": null,
            "_model_module_version": "1.2.0",
            "_view_count": null,
            "flex_flow": null,
            "width": null,
            "min_width": null,
            "border": null,
            "align_items": null,
            "bottom": null,
            "_model_module": "@jupyter-widgets/base",
            "top": null,
            "grid_column": null,
            "overflow_y": null,
            "overflow_x": null,
            "grid_auto_flow": null,
            "grid_area": null,
            "grid_template_columns": null,
            "flex": null,
            "_model_name": "LayoutModel",
            "justify_items": null,
            "grid_row": null,
            "max_height": null,
            "align_content": null,
            "visibility": null,
            "align_self": null,
            "height": null,
            "min_height": null,
            "padding": null,
            "grid_auto_rows": null,
            "grid_gap": null,
            "max_width": null,
            "order": null,
            "_view_module_version": "1.2.0",
            "grid_template_areas": null,
            "object_position": null,
            "object_fit": null,
            "grid_auto_columns": null,
            "margin": null,
            "display": null,
            "left": null
          }
        },
        "e6db2bd9ff60475cb4362e318fd8c7c5": {
          "model_module": "@jupyter-widgets/controls",
          "model_name": "FloatProgressModel",
          "state": {
            "_view_name": "ProgressView",
            "style": "IPY_MODEL_a634e4ece9124ab194e56052c72bdbda",
            "_dom_classes": [],
            "description": "100%",
            "_model_name": "FloatProgressModel",
            "bar_style": "success",
            "max": 81,
            "_view_module": "@jupyter-widgets/controls",
            "_model_module_version": "1.5.0",
            "value": 81,
            "_view_count": null,
            "_view_module_version": "1.5.0",
            "orientation": "horizontal",
            "min": 0,
            "description_tooltip": null,
            "_model_module": "@jupyter-widgets/controls",
            "layout": "IPY_MODEL_4512a8d4654d422097602c9f6dfc3931"
          }
        },
        "fb28e624607d42c59efc4bfec76ebb5a": {
          "model_module": "@jupyter-widgets/controls",
          "model_name": "HTMLModel",
          "state": {
            "_view_name": "HTMLView",
            "style": "IPY_MODEL_d3021518e2d2432b9014da9f01457031",
            "_dom_classes": [],
            "description": "",
            "_model_name": "HTMLModel",
            "placeholder": "​",
            "_view_module": "@jupyter-widgets/controls",
            "_model_module_version": "1.5.0",
            "value": " 81/81 [01:20&lt;00:00,  1.01it/s]",
            "_view_count": null,
            "_view_module_version": "1.5.0",
            "description_tooltip": null,
            "_model_module": "@jupyter-widgets/controls",
            "layout": "IPY_MODEL_f00b398052504a499babf309daffe97f"
          }
        },
        "a634e4ece9124ab194e56052c72bdbda": {
          "model_module": "@jupyter-widgets/controls",
          "model_name": "ProgressStyleModel",
          "state": {
            "_view_name": "StyleView",
            "_model_name": "ProgressStyleModel",
            "description_width": "initial",
            "_view_module": "@jupyter-widgets/base",
            "_model_module_version": "1.5.0",
            "_view_count": null,
            "_view_module_version": "1.2.0",
            "bar_color": null,
            "_model_module": "@jupyter-widgets/controls"
          }
        },
        "4512a8d4654d422097602c9f6dfc3931": {
          "model_module": "@jupyter-widgets/base",
          "model_name": "LayoutModel",
          "state": {
            "_view_name": "LayoutView",
            "grid_template_rows": null,
            "right": null,
            "justify_content": null,
            "_view_module": "@jupyter-widgets/base",
            "overflow": null,
            "_model_module_version": "1.2.0",
            "_view_count": null,
            "flex_flow": null,
            "width": null,
            "min_width": null,
            "border": null,
            "align_items": null,
            "bottom": null,
            "_model_module": "@jupyter-widgets/base",
            "top": null,
            "grid_column": null,
            "overflow_y": null,
            "overflow_x": null,
            "grid_auto_flow": null,
            "grid_area": null,
            "grid_template_columns": null,
            "flex": null,
            "_model_name": "LayoutModel",
            "justify_items": null,
            "grid_row": null,
            "max_height": null,
            "align_content": null,
            "visibility": null,
            "align_self": null,
            "height": null,
            "min_height": null,
            "padding": null,
            "grid_auto_rows": null,
            "grid_gap": null,
            "max_width": null,
            "order": null,
            "_view_module_version": "1.2.0",
            "grid_template_areas": null,
            "object_position": null,
            "object_fit": null,
            "grid_auto_columns": null,
            "margin": null,
            "display": null,
            "left": null
          }
        },
        "d3021518e2d2432b9014da9f01457031": {
          "model_module": "@jupyter-widgets/controls",
          "model_name": "DescriptionStyleModel",
          "state": {
            "_view_name": "StyleView",
            "_model_name": "DescriptionStyleModel",
            "description_width": "",
            "_view_module": "@jupyter-widgets/base",
            "_model_module_version": "1.5.0",
            "_view_count": null,
            "_view_module_version": "1.2.0",
            "_model_module": "@jupyter-widgets/controls"
          }
        },
        "f00b398052504a499babf309daffe97f": {
          "model_module": "@jupyter-widgets/base",
          "model_name": "LayoutModel",
          "state": {
            "_view_name": "LayoutView",
            "grid_template_rows": null,
            "right": null,
            "justify_content": null,
            "_view_module": "@jupyter-widgets/base",
            "overflow": null,
            "_model_module_version": "1.2.0",
            "_view_count": null,
            "flex_flow": null,
            "width": null,
            "min_width": null,
            "border": null,
            "align_items": null,
            "bottom": null,
            "_model_module": "@jupyter-widgets/base",
            "top": null,
            "grid_column": null,
            "overflow_y": null,
            "overflow_x": null,
            "grid_auto_flow": null,
            "grid_area": null,
            "grid_template_columns": null,
            "flex": null,
            "_model_name": "LayoutModel",
            "justify_items": null,
            "grid_row": null,
            "max_height": null,
            "align_content": null,
            "visibility": null,
            "align_self": null,
            "height": null,
            "min_height": null,
            "padding": null,
            "grid_auto_rows": null,
            "grid_gap": null,
            "max_width": null,
            "order": null,
            "_view_module_version": "1.2.0",
            "grid_template_areas": null,
            "object_position": null,
            "object_fit": null,
            "grid_auto_columns": null,
            "margin": null,
            "display": null,
            "left": null
          }
        },
        "b27862eddb294cf79fc7ecc2765c7d0e": {
          "model_module": "@jupyter-widgets/controls",
          "model_name": "HBoxModel",
          "state": {
            "_view_name": "HBoxView",
            "_dom_classes": [],
            "_model_name": "HBoxModel",
            "_view_module": "@jupyter-widgets/controls",
            "_model_module_version": "1.5.0",
            "_view_count": null,
            "_view_module_version": "1.5.0",
            "box_style": "",
            "layout": "IPY_MODEL_95d0c660c8054a32b84bc73706cc1159",
            "_model_module": "@jupyter-widgets/controls",
            "children": [
              "IPY_MODEL_4e3e61446a9f4178be63a4f5cb4d9ac6",
              "IPY_MODEL_675f83d5498e4da8a5de8a512fb13707"
            ]
          }
        },
        "95d0c660c8054a32b84bc73706cc1159": {
          "model_module": "@jupyter-widgets/base",
          "model_name": "LayoutModel",
          "state": {
            "_view_name": "LayoutView",
            "grid_template_rows": null,
            "right": null,
            "justify_content": null,
            "_view_module": "@jupyter-widgets/base",
            "overflow": null,
            "_model_module_version": "1.2.0",
            "_view_count": null,
            "flex_flow": null,
            "width": null,
            "min_width": null,
            "border": null,
            "align_items": null,
            "bottom": null,
            "_model_module": "@jupyter-widgets/base",
            "top": null,
            "grid_column": null,
            "overflow_y": null,
            "overflow_x": null,
            "grid_auto_flow": null,
            "grid_area": null,
            "grid_template_columns": null,
            "flex": null,
            "_model_name": "LayoutModel",
            "justify_items": null,
            "grid_row": null,
            "max_height": null,
            "align_content": null,
            "visibility": null,
            "align_self": null,
            "height": null,
            "min_height": null,
            "padding": null,
            "grid_auto_rows": null,
            "grid_gap": null,
            "max_width": null,
            "order": null,
            "_view_module_version": "1.2.0",
            "grid_template_areas": null,
            "object_position": null,
            "object_fit": null,
            "grid_auto_columns": null,
            "margin": null,
            "display": null,
            "left": null
          }
        },
        "4e3e61446a9f4178be63a4f5cb4d9ac6": {
          "model_module": "@jupyter-widgets/controls",
          "model_name": "FloatProgressModel",
          "state": {
            "_view_name": "ProgressView",
            "style": "IPY_MODEL_9cbc60f7a5614e6e87407fcce950c7f0",
            "_dom_classes": [],
            "description": "100%",
            "_model_name": "FloatProgressModel",
            "bar_style": "success",
            "max": 81,
            "_view_module": "@jupyter-widgets/controls",
            "_model_module_version": "1.5.0",
            "value": 81,
            "_view_count": null,
            "_view_module_version": "1.5.0",
            "orientation": "horizontal",
            "min": 0,
            "description_tooltip": null,
            "_model_module": "@jupyter-widgets/controls",
            "layout": "IPY_MODEL_715cda95789a4bd39fe25c63e031df64"
          }
        },
        "675f83d5498e4da8a5de8a512fb13707": {
          "model_module": "@jupyter-widgets/controls",
          "model_name": "HTMLModel",
          "state": {
            "_view_name": "HTMLView",
            "style": "IPY_MODEL_c3a1fcf681b24c37a8d551b46539be89",
            "_dom_classes": [],
            "description": "",
            "_model_name": "HTMLModel",
            "placeholder": "​",
            "_view_module": "@jupyter-widgets/controls",
            "_model_module_version": "1.5.0",
            "value": " 81/81 [00:38&lt;00:00,  2.09it/s]",
            "_view_count": null,
            "_view_module_version": "1.5.0",
            "description_tooltip": null,
            "_model_module": "@jupyter-widgets/controls",
            "layout": "IPY_MODEL_d650bed19d3f4de4a5037349d313eef4"
          }
        },
        "9cbc60f7a5614e6e87407fcce950c7f0": {
          "model_module": "@jupyter-widgets/controls",
          "model_name": "ProgressStyleModel",
          "state": {
            "_view_name": "StyleView",
            "_model_name": "ProgressStyleModel",
            "description_width": "initial",
            "_view_module": "@jupyter-widgets/base",
            "_model_module_version": "1.5.0",
            "_view_count": null,
            "_view_module_version": "1.2.0",
            "bar_color": null,
            "_model_module": "@jupyter-widgets/controls"
          }
        },
        "715cda95789a4bd39fe25c63e031df64": {
          "model_module": "@jupyter-widgets/base",
          "model_name": "LayoutModel",
          "state": {
            "_view_name": "LayoutView",
            "grid_template_rows": null,
            "right": null,
            "justify_content": null,
            "_view_module": "@jupyter-widgets/base",
            "overflow": null,
            "_model_module_version": "1.2.0",
            "_view_count": null,
            "flex_flow": null,
            "width": null,
            "min_width": null,
            "border": null,
            "align_items": null,
            "bottom": null,
            "_model_module": "@jupyter-widgets/base",
            "top": null,
            "grid_column": null,
            "overflow_y": null,
            "overflow_x": null,
            "grid_auto_flow": null,
            "grid_area": null,
            "grid_template_columns": null,
            "flex": null,
            "_model_name": "LayoutModel",
            "justify_items": null,
            "grid_row": null,
            "max_height": null,
            "align_content": null,
            "visibility": null,
            "align_self": null,
            "height": null,
            "min_height": null,
            "padding": null,
            "grid_auto_rows": null,
            "grid_gap": null,
            "max_width": null,
            "order": null,
            "_view_module_version": "1.2.0",
            "grid_template_areas": null,
            "object_position": null,
            "object_fit": null,
            "grid_auto_columns": null,
            "margin": null,
            "display": null,
            "left": null
          }
        },
        "c3a1fcf681b24c37a8d551b46539be89": {
          "model_module": "@jupyter-widgets/controls",
          "model_name": "DescriptionStyleModel",
          "state": {
            "_view_name": "StyleView",
            "_model_name": "DescriptionStyleModel",
            "description_width": "",
            "_view_module": "@jupyter-widgets/base",
            "_model_module_version": "1.5.0",
            "_view_count": null,
            "_view_module_version": "1.2.0",
            "_model_module": "@jupyter-widgets/controls"
          }
        },
        "d650bed19d3f4de4a5037349d313eef4": {
          "model_module": "@jupyter-widgets/base",
          "model_name": "LayoutModel",
          "state": {
            "_view_name": "LayoutView",
            "grid_template_rows": null,
            "right": null,
            "justify_content": null,
            "_view_module": "@jupyter-widgets/base",
            "overflow": null,
            "_model_module_version": "1.2.0",
            "_view_count": null,
            "flex_flow": null,
            "width": null,
            "min_width": null,
            "border": null,
            "align_items": null,
            "bottom": null,
            "_model_module": "@jupyter-widgets/base",
            "top": null,
            "grid_column": null,
            "overflow_y": null,
            "overflow_x": null,
            "grid_auto_flow": null,
            "grid_area": null,
            "grid_template_columns": null,
            "flex": null,
            "_model_name": "LayoutModel",
            "justify_items": null,
            "grid_row": null,
            "max_height": null,
            "align_content": null,
            "visibility": null,
            "align_self": null,
            "height": null,
            "min_height": null,
            "padding": null,
            "grid_auto_rows": null,
            "grid_gap": null,
            "max_width": null,
            "order": null,
            "_view_module_version": "1.2.0",
            "grid_template_areas": null,
            "object_position": null,
            "object_fit": null,
            "grid_auto_columns": null,
            "margin": null,
            "display": null,
            "left": null
          }
        },
        "86717bc5c5b94043a6ceb539ffe14c14": {
          "model_module": "@jupyter-widgets/controls",
          "model_name": "HBoxModel",
          "state": {
            "_view_name": "HBoxView",
            "_dom_classes": [],
            "_model_name": "HBoxModel",
            "_view_module": "@jupyter-widgets/controls",
            "_model_module_version": "1.5.0",
            "_view_count": null,
            "_view_module_version": "1.5.0",
            "box_style": "",
            "layout": "IPY_MODEL_e27757948ccd42a79e00cec836f5dd63",
            "_model_module": "@jupyter-widgets/controls",
            "children": [
              "IPY_MODEL_aad5cb6fda5f41ceb6d52bfab7d980b9",
              "IPY_MODEL_14b108f9899e4d09ba9a7e1ae86cc0db"
            ]
          }
        },
        "e27757948ccd42a79e00cec836f5dd63": {
          "model_module": "@jupyter-widgets/base",
          "model_name": "LayoutModel",
          "state": {
            "_view_name": "LayoutView",
            "grid_template_rows": null,
            "right": null,
            "justify_content": null,
            "_view_module": "@jupyter-widgets/base",
            "overflow": null,
            "_model_module_version": "1.2.0",
            "_view_count": null,
            "flex_flow": null,
            "width": null,
            "min_width": null,
            "border": null,
            "align_items": null,
            "bottom": null,
            "_model_module": "@jupyter-widgets/base",
            "top": null,
            "grid_column": null,
            "overflow_y": null,
            "overflow_x": null,
            "grid_auto_flow": null,
            "grid_area": null,
            "grid_template_columns": null,
            "flex": null,
            "_model_name": "LayoutModel",
            "justify_items": null,
            "grid_row": null,
            "max_height": null,
            "align_content": null,
            "visibility": null,
            "align_self": null,
            "height": null,
            "min_height": null,
            "padding": null,
            "grid_auto_rows": null,
            "grid_gap": null,
            "max_width": null,
            "order": null,
            "_view_module_version": "1.2.0",
            "grid_template_areas": null,
            "object_position": null,
            "object_fit": null,
            "grid_auto_columns": null,
            "margin": null,
            "display": null,
            "left": null
          }
        },
        "aad5cb6fda5f41ceb6d52bfab7d980b9": {
          "model_module": "@jupyter-widgets/controls",
          "model_name": "FloatProgressModel",
          "state": {
            "_view_name": "ProgressView",
            "style": "IPY_MODEL_28a368c02cce41e89723c9cd801d765b",
            "_dom_classes": [],
            "description": "100%",
            "_model_name": "FloatProgressModel",
            "bar_style": "success",
            "max": 37,
            "_view_module": "@jupyter-widgets/controls",
            "_model_module_version": "1.5.0",
            "value": 37,
            "_view_count": null,
            "_view_module_version": "1.5.0",
            "orientation": "horizontal",
            "min": 0,
            "description_tooltip": null,
            "_model_module": "@jupyter-widgets/controls",
            "layout": "IPY_MODEL_13857f3995c1494c9a8ca62fde2f0225"
          }
        },
        "14b108f9899e4d09ba9a7e1ae86cc0db": {
          "model_module": "@jupyter-widgets/controls",
          "model_name": "HTMLModel",
          "state": {
            "_view_name": "HTMLView",
            "style": "IPY_MODEL_887f48c78f4149c88a12b97361dc228d",
            "_dom_classes": [],
            "description": "",
            "_model_name": "HTMLModel",
            "placeholder": "​",
            "_view_module": "@jupyter-widgets/controls",
            "_model_module_version": "1.5.0",
            "value": " 37/37 [00:24&lt;00:00,  1.48it/s]",
            "_view_count": null,
            "_view_module_version": "1.5.0",
            "description_tooltip": null,
            "_model_module": "@jupyter-widgets/controls",
            "layout": "IPY_MODEL_9d926f29d59e4104aadd7fc4c3b76d5f"
          }
        },
        "28a368c02cce41e89723c9cd801d765b": {
          "model_module": "@jupyter-widgets/controls",
          "model_name": "ProgressStyleModel",
          "state": {
            "_view_name": "StyleView",
            "_model_name": "ProgressStyleModel",
            "description_width": "initial",
            "_view_module": "@jupyter-widgets/base",
            "_model_module_version": "1.5.0",
            "_view_count": null,
            "_view_module_version": "1.2.0",
            "bar_color": null,
            "_model_module": "@jupyter-widgets/controls"
          }
        },
        "13857f3995c1494c9a8ca62fde2f0225": {
          "model_module": "@jupyter-widgets/base",
          "model_name": "LayoutModel",
          "state": {
            "_view_name": "LayoutView",
            "grid_template_rows": null,
            "right": null,
            "justify_content": null,
            "_view_module": "@jupyter-widgets/base",
            "overflow": null,
            "_model_module_version": "1.2.0",
            "_view_count": null,
            "flex_flow": null,
            "width": null,
            "min_width": null,
            "border": null,
            "align_items": null,
            "bottom": null,
            "_model_module": "@jupyter-widgets/base",
            "top": null,
            "grid_column": null,
            "overflow_y": null,
            "overflow_x": null,
            "grid_auto_flow": null,
            "grid_area": null,
            "grid_template_columns": null,
            "flex": null,
            "_model_name": "LayoutModel",
            "justify_items": null,
            "grid_row": null,
            "max_height": null,
            "align_content": null,
            "visibility": null,
            "align_self": null,
            "height": null,
            "min_height": null,
            "padding": null,
            "grid_auto_rows": null,
            "grid_gap": null,
            "max_width": null,
            "order": null,
            "_view_module_version": "1.2.0",
            "grid_template_areas": null,
            "object_position": null,
            "object_fit": null,
            "grid_auto_columns": null,
            "margin": null,
            "display": null,
            "left": null
          }
        },
        "887f48c78f4149c88a12b97361dc228d": {
          "model_module": "@jupyter-widgets/controls",
          "model_name": "DescriptionStyleModel",
          "state": {
            "_view_name": "StyleView",
            "_model_name": "DescriptionStyleModel",
            "description_width": "",
            "_view_module": "@jupyter-widgets/base",
            "_model_module_version": "1.5.0",
            "_view_count": null,
            "_view_module_version": "1.2.0",
            "_model_module": "@jupyter-widgets/controls"
          }
        },
        "9d926f29d59e4104aadd7fc4c3b76d5f": {
          "model_module": "@jupyter-widgets/base",
          "model_name": "LayoutModel",
          "state": {
            "_view_name": "LayoutView",
            "grid_template_rows": null,
            "right": null,
            "justify_content": null,
            "_view_module": "@jupyter-widgets/base",
            "overflow": null,
            "_model_module_version": "1.2.0",
            "_view_count": null,
            "flex_flow": null,
            "width": null,
            "min_width": null,
            "border": null,
            "align_items": null,
            "bottom": null,
            "_model_module": "@jupyter-widgets/base",
            "top": null,
            "grid_column": null,
            "overflow_y": null,
            "overflow_x": null,
            "grid_auto_flow": null,
            "grid_area": null,
            "grid_template_columns": null,
            "flex": null,
            "_model_name": "LayoutModel",
            "justify_items": null,
            "grid_row": null,
            "max_height": null,
            "align_content": null,
            "visibility": null,
            "align_self": null,
            "height": null,
            "min_height": null,
            "padding": null,
            "grid_auto_rows": null,
            "grid_gap": null,
            "max_width": null,
            "order": null,
            "_view_module_version": "1.2.0",
            "grid_template_areas": null,
            "object_position": null,
            "object_fit": null,
            "grid_auto_columns": null,
            "margin": null,
            "display": null,
            "left": null
          }
        },
        "0208091d769d4b8cb0b1834131935c0d": {
          "model_module": "@jupyter-widgets/controls",
          "model_name": "HBoxModel",
          "state": {
            "_view_name": "HBoxView",
            "_dom_classes": [],
            "_model_name": "HBoxModel",
            "_view_module": "@jupyter-widgets/controls",
            "_model_module_version": "1.5.0",
            "_view_count": null,
            "_view_module_version": "1.5.0",
            "box_style": "",
            "layout": "IPY_MODEL_d45a3df20f99493380529900c1d7eb8e",
            "_model_module": "@jupyter-widgets/controls",
            "children": [
              "IPY_MODEL_d3cfebc9eae7498d8bfef37f863d5077",
              "IPY_MODEL_e8fa68c3cddf4a0fbabaee0de23d9216"
            ]
          }
        },
        "d45a3df20f99493380529900c1d7eb8e": {
          "model_module": "@jupyter-widgets/base",
          "model_name": "LayoutModel",
          "state": {
            "_view_name": "LayoutView",
            "grid_template_rows": null,
            "right": null,
            "justify_content": null,
            "_view_module": "@jupyter-widgets/base",
            "overflow": null,
            "_model_module_version": "1.2.0",
            "_view_count": null,
            "flex_flow": null,
            "width": null,
            "min_width": null,
            "border": null,
            "align_items": null,
            "bottom": null,
            "_model_module": "@jupyter-widgets/base",
            "top": null,
            "grid_column": null,
            "overflow_y": null,
            "overflow_x": null,
            "grid_auto_flow": null,
            "grid_area": null,
            "grid_template_columns": null,
            "flex": null,
            "_model_name": "LayoutModel",
            "justify_items": null,
            "grid_row": null,
            "max_height": null,
            "align_content": null,
            "visibility": null,
            "align_self": null,
            "height": null,
            "min_height": null,
            "padding": null,
            "grid_auto_rows": null,
            "grid_gap": null,
            "max_width": null,
            "order": null,
            "_view_module_version": "1.2.0",
            "grid_template_areas": null,
            "object_position": null,
            "object_fit": null,
            "grid_auto_columns": null,
            "margin": null,
            "display": null,
            "left": null
          }
        },
        "d3cfebc9eae7498d8bfef37f863d5077": {
          "model_module": "@jupyter-widgets/controls",
          "model_name": "FloatProgressModel",
          "state": {
            "_view_name": "ProgressView",
            "style": "IPY_MODEL_4765af60494e4d04a70e234471d0baaf",
            "_dom_classes": [],
            "description": "100%",
            "_model_name": "FloatProgressModel",
            "bar_style": "success",
            "max": 37,
            "_view_module": "@jupyter-widgets/controls",
            "_model_module_version": "1.5.0",
            "value": 37,
            "_view_count": null,
            "_view_module_version": "1.5.0",
            "orientation": "horizontal",
            "min": 0,
            "description_tooltip": null,
            "_model_module": "@jupyter-widgets/controls",
            "layout": "IPY_MODEL_6efc3e1a565d40e2a42b322879aff59b"
          }
        },
        "e8fa68c3cddf4a0fbabaee0de23d9216": {
          "model_module": "@jupyter-widgets/controls",
          "model_name": "HTMLModel",
          "state": {
            "_view_name": "HTMLView",
            "style": "IPY_MODEL_d0e281bd2a584f1a99d4c3ced4487609",
            "_dom_classes": [],
            "description": "",
            "_model_name": "HTMLModel",
            "placeholder": "​",
            "_view_module": "@jupyter-widgets/controls",
            "_model_module_version": "1.5.0",
            "value": " 37/37 [00:24&lt;00:00,  1.48it/s]",
            "_view_count": null,
            "_view_module_version": "1.5.0",
            "description_tooltip": null,
            "_model_module": "@jupyter-widgets/controls",
            "layout": "IPY_MODEL_b804e415cccb4250b58685d236fdff56"
          }
        },
        "4765af60494e4d04a70e234471d0baaf": {
          "model_module": "@jupyter-widgets/controls",
          "model_name": "ProgressStyleModel",
          "state": {
            "_view_name": "StyleView",
            "_model_name": "ProgressStyleModel",
            "description_width": "initial",
            "_view_module": "@jupyter-widgets/base",
            "_model_module_version": "1.5.0",
            "_view_count": null,
            "_view_module_version": "1.2.0",
            "bar_color": null,
            "_model_module": "@jupyter-widgets/controls"
          }
        },
        "6efc3e1a565d40e2a42b322879aff59b": {
          "model_module": "@jupyter-widgets/base",
          "model_name": "LayoutModel",
          "state": {
            "_view_name": "LayoutView",
            "grid_template_rows": null,
            "right": null,
            "justify_content": null,
            "_view_module": "@jupyter-widgets/base",
            "overflow": null,
            "_model_module_version": "1.2.0",
            "_view_count": null,
            "flex_flow": null,
            "width": null,
            "min_width": null,
            "border": null,
            "align_items": null,
            "bottom": null,
            "_model_module": "@jupyter-widgets/base",
            "top": null,
            "grid_column": null,
            "overflow_y": null,
            "overflow_x": null,
            "grid_auto_flow": null,
            "grid_area": null,
            "grid_template_columns": null,
            "flex": null,
            "_model_name": "LayoutModel",
            "justify_items": null,
            "grid_row": null,
            "max_height": null,
            "align_content": null,
            "visibility": null,
            "align_self": null,
            "height": null,
            "min_height": null,
            "padding": null,
            "grid_auto_rows": null,
            "grid_gap": null,
            "max_width": null,
            "order": null,
            "_view_module_version": "1.2.0",
            "grid_template_areas": null,
            "object_position": null,
            "object_fit": null,
            "grid_auto_columns": null,
            "margin": null,
            "display": null,
            "left": null
          }
        },
        "d0e281bd2a584f1a99d4c3ced4487609": {
          "model_module": "@jupyter-widgets/controls",
          "model_name": "DescriptionStyleModel",
          "state": {
            "_view_name": "StyleView",
            "_model_name": "DescriptionStyleModel",
            "description_width": "",
            "_view_module": "@jupyter-widgets/base",
            "_model_module_version": "1.5.0",
            "_view_count": null,
            "_view_module_version": "1.2.0",
            "_model_module": "@jupyter-widgets/controls"
          }
        },
        "b804e415cccb4250b58685d236fdff56": {
          "model_module": "@jupyter-widgets/base",
          "model_name": "LayoutModel",
          "state": {
            "_view_name": "LayoutView",
            "grid_template_rows": null,
            "right": null,
            "justify_content": null,
            "_view_module": "@jupyter-widgets/base",
            "overflow": null,
            "_model_module_version": "1.2.0",
            "_view_count": null,
            "flex_flow": null,
            "width": null,
            "min_width": null,
            "border": null,
            "align_items": null,
            "bottom": null,
            "_model_module": "@jupyter-widgets/base",
            "top": null,
            "grid_column": null,
            "overflow_y": null,
            "overflow_x": null,
            "grid_auto_flow": null,
            "grid_area": null,
            "grid_template_columns": null,
            "flex": null,
            "_model_name": "LayoutModel",
            "justify_items": null,
            "grid_row": null,
            "max_height": null,
            "align_content": null,
            "visibility": null,
            "align_self": null,
            "height": null,
            "min_height": null,
            "padding": null,
            "grid_auto_rows": null,
            "grid_gap": null,
            "max_width": null,
            "order": null,
            "_view_module_version": "1.2.0",
            "grid_template_areas": null,
            "object_position": null,
            "object_fit": null,
            "grid_auto_columns": null,
            "margin": null,
            "display": null,
            "left": null
          }
        }
      }
    }
  },
  "cells": [
    {
      "cell_type": "code",
      "metadata": {
        "colab": {
          "base_uri": "https://localhost:8080/"
        },
        "id": "nDXsPNy_SoJQ",
        "outputId": "9596a4e7-169b-4faf-eac7-0c025c174a38"
      },
      "source": [
        " !pip install rarfile"
      ],
      "execution_count": null,
      "outputs": [
        {
          "output_type": "stream",
          "text": [
            "Requirement already satisfied: rarfile in /usr/local/lib/python3.6/dist-packages (4.0)\n"
          ],
          "name": "stdout"
        }
      ]
    },
    {
      "cell_type": "markdown",
      "metadata": {
        "id": "ebRRKcc-Sn1I"
      },
      "source": [
        "\r\n",
        "Define the paths we are going to use"
      ]
    },
    {
      "cell_type": "code",
      "metadata": {
        "id": "YdrzxxMXhR2j"
      },
      "source": [
        "\r\n",
        "sqlite_path = f'/content/drive/MyDrive/Data_Mining/Project/ATAC-Final.sqlite'\r\n",
        "assets_path = f'/content/drive/MyDrive/Data_Mining/Project/Assets'"
      ],
      "execution_count": null,
      "outputs": []
    },
    {
      "cell_type": "markdown",
      "metadata": {
        "id": "qLGrqWMf45fI"
      },
      "source": [
        "Import code shared with the parser"
      ]
    },
    {
      "cell_type": "code",
      "metadata": {
        "colab": {
          "base_uri": "https://localhost:8080/"
        },
        "id": "_zkSCndQdEHI",
        "outputId": "e3144552-3b0e-40ff-ca35-bc8c63d1ddc3"
      },
      "source": [
        "from google.colab import drive\r\n",
        "drive.mount('/content/drive')\r\n",
        "import pandas as pd\r\n",
        "from bs4 import BeautifulSoup\r\n",
        "from os import listdir\r\n",
        "from os.path import join\r\n",
        "from datetime import datetime\r\n",
        "import re\r\n",
        "import rarfile\r\n",
        "from os import mkdir, remove, listdir, walk\r\n",
        "from os.path import join, exists\r\n",
        "from tqdm.notebook import tqdm \r\n",
        "\r\n",
        "from sqlalchemy import create_engine, Column, Integer, String, DateTime, Boolean, ForeignKey, Date\r\n",
        "from sqlalchemy.ext.declarative import declarative_base\r\n",
        "from sqlalchemy import func\r\n",
        "from sqlalchemy.orm import relationship\r\n",
        "engine = create_engine('sqlite:///'+sqlite_path, echo=False)\r\n",
        "Base = declarative_base()\r\n",
        "\r\n",
        "class RouteStop(Base):\r\n",
        "  __tablename__ = 'routestops'\r\n",
        "  route_id = Column(Integer, nullable=False, primary_key= True)\r\n",
        "  stop_id = Column(Integer, nullable=False, primary_key= True)\r\n",
        "  line_id = Column(String)\r\n",
        "  name = Column(String, nullable=False)\r\n",
        "  position = Column(Integer, nullable=False)\r\n",
        "  last = Column(Boolean, nullable=False, default=False) # TODO not implemented\r\n",
        "\r\n",
        "  # buses = relationship(\"BusLocation\", foreign_keys=[route_id, stop_id])\r\n",
        "\r\n",
        "  def __str__(self):\r\n",
        "    return f\"[{self.position}@{self.route_id} | {self.name}({self.stop_id}) ]\"\r\n",
        "  \r\n",
        "\r\n",
        "class BusLocation(Base):\r\n",
        "  __tablename__ = 'buslocations'\r\n",
        "  \r\n",
        "  time = Column(DateTime, nullable=False, primary_key= True)\r\n",
        "  bus_id = Column(Integer, nullable=False, primary_key= True)\r\n",
        "  route_id = Column(Integer, ForeignKey('routestops.route_id'))\r\n",
        "  stop_id = Column(Integer, ForeignKey('routestops.stop_id'))\r\n",
        "\r\n",
        "  stop = relationship(\"RouteStop\",\r\n",
        "                    primaryjoin=\"and_(BusLocation.route_id==RouteStop.route_id, \"\r\n",
        "                        \"BusLocation.stop_id==RouteStop.stop_id)\")\r\n",
        "\r\n",
        "\r\n",
        "  def __str__(self):\r\n",
        "    return f\"{self.time.hour}:{self.time.minute} [{self.bus_id}]  @  {self.stop_id} - {self.route_id} {self.stop}\"\r\n",
        "\r\n",
        "class RouteStopState(Base):\r\n",
        "   __tablename__ = 'routestopdelays'\r\n",
        "\r\n",
        "   stop_id = Column(Integer, ForeignKey('routestops.stop_id'),primary_key= True)\r\n",
        "   route_id = Column(Integer, ForeignKey('routestops.route_id'),primary_key= True)\r\n",
        "   time = Column(DateTime, nullable=False, primary_key= True)\r\n",
        "   state = Column(Integer)\r\n",
        "\r\n",
        "class RouteDeparture(Base):\r\n",
        "  __tablename__ = 'routedepartures'\r\n",
        "  route_id = Column(Integer, ForeignKey('routestops.route_id'),primary_key= True)\r\n",
        "  time = Column(DateTime, nullable=False, primary_key= True)\r\n",
        "  day = Column(Date )\r\n",
        "   \r\n",
        "\r\n",
        "Base.metadata.create_all(engine)\r\n",
        "\r\n",
        "from sqlalchemy.orm import sessionmaker\r\n",
        "Session = sessionmaker(bind=engine)\r\n",
        "session = Session()"
      ],
      "execution_count": null,
      "outputs": [
        {
          "output_type": "stream",
          "text": [
            "Drive already mounted at /content/drive; to attempt to forcibly remount, call drive.mount(\"/content/drive\", force_remount=True).\n"
          ],
          "name": "stdout"
        }
      ]
    },
    {
      "cell_type": "markdown",
      "metadata": {
        "id": "LepINYc-5G0F"
      },
      "source": [
        "Additional imports to work with data"
      ]
    },
    {
      "cell_type": "code",
      "metadata": {
        "id": "WPQo8gYO783H"
      },
      "source": [
        "from sqlalchemy import distinct, func\n",
        "from sqlalchemy.orm import aliased\n",
        "import matplotlib\n",
        "from matplotlib import pyplot as plt\n",
        "from random import choice"
      ],
      "execution_count": null,
      "outputs": []
    },
    {
      "cell_type": "markdown",
      "metadata": {
        "id": "0Mj3rVg241iH"
      },
      "source": [
        "Queries to retrieve arrays of (day, feat)"
      ]
    },
    {
      "cell_type": "code",
      "metadata": {
        "id": "ZJv2moyXeEHg"
      },
      "source": [
        "session.rollback()\r\n",
        "\r\n",
        "def bus_stops_to_average(stops):\r\n",
        "  p2, t2 = stops.pop(0)\r\n",
        "  stops_num = 0\r\n",
        "  time = 0.0000000001\r\n",
        "  avg = 0 \r\n",
        "\r\n",
        "  for s in stops:\r\n",
        "    p1, t1 = (p2,t2)\r\n",
        "    p2, t2 = s\r\n",
        "\r\n",
        "\r\n",
        "    if p1 < p2 :\r\n",
        "      stops_num += (p2-p1)\r\n",
        "      time += (t2-t1).seconds/ (60*10)\r\n",
        "      avg = stops_num/( time)\r\n",
        "\r\n",
        "  return avg, stops_num, time\r\n",
        "\r\n",
        "from datetime import timedelta\r\n",
        "def bus_stops_runs_count(stops):\r\n",
        "  p2, t2 = stops.pop(0)\r\n",
        "  runs = 1\r\n",
        "\r\n",
        "  for s in stops:\r\n",
        "    p1, t1 = (p2,t2)\r\n",
        "    p2, t2 = s\r\n",
        "\r\n",
        "    if p1 > p2 :\r\n",
        "      runs += 1\r\n",
        "  \r\n",
        "\r\n",
        "  return runs\r\n",
        "def get_avg_lateness(route_id):\r\n",
        "  \r\n",
        "  days = session.query(BusLocation.time).group_by(func.date(BusLocation.time)).filter(BusLocation.route_id == f'{route_id}').order_by(BusLocation.time).all()\r\n",
        "  days = [ d[0].date() for d in days ]\r\n",
        "\r\n",
        "  avg_array = []\r\n",
        "  for d in tqdm(days):\r\n",
        "    tot_stops_num = 0\r\n",
        "    tot_time = 0.00000000001\r\n",
        "    buses = session.query(distinct(BusLocation.bus_id)).filter(BusLocation.route_id == f'{route_id}', func.date(BusLocation.time) == d ).order_by(BusLocation.time).all()\r\n",
        "    buses = [ b[0] for b in buses]\r\n",
        "    for b in (buses):\r\n",
        "      stops = session.query( RouteStop.position, BusLocation.time)\\\r\n",
        "        .filter( BusLocation.stop_id == RouteStop.stop_id) \\\r\n",
        "        .filter(BusLocation.route_id == RouteStop.route_id)\\\r\n",
        "        .filter(BusLocation.route_id == f'{route_id}', BusLocation.bus_id == b)\\\r\n",
        "        .order_by(BusLocation.time).all()\r\n",
        "\r\n",
        "      \r\n",
        "      \r\n",
        "\r\n",
        "      stops = [ (s[0], s[1]) for s in stops]\r\n",
        "      avg, stops_num, time = bus_stops_to_average(stops)\r\n",
        "      tot_stops_num += stops_num\r\n",
        "      tot_time += time\r\n",
        "\r\n",
        "    avg_array.append ( (d, tot_stops_num/tot_time) )\r\n",
        "  return avg_array\r\n",
        "\r\n",
        "def get_daily_runs(route_id):\r\n",
        "  \r\n",
        "  days = session.query(distinct(func.date(BusLocation.time))).filter(BusLocation.route_id == f'{route_id}').order_by(BusLocation.time).all()\r\n",
        "  days = [ d[0] for d in days ]\r\n",
        "\r\n",
        "  runs_array = []\r\n",
        "  for d in tqdm(days):\r\n",
        "    runs = 0\r\n",
        "    \r\n",
        "    buses = session.query(distinct(BusLocation.bus_id)).filter(BusLocation.route_id == f'{route_id}', func.date(BusLocation.time) == d ).order_by(BusLocation.time).all()\r\n",
        "    buses = [ b[0] for b in buses]\r\n",
        "    for b in (buses):\r\n",
        "      stops = session.query( RouteStop.position, BusLocation.time)\\\r\n",
        "        .filter( BusLocation.stop_id == RouteStop.stop_id) \\\r\n",
        "        .filter(BusLocation.route_id == RouteStop.route_id)\\\r\n",
        "        .filter(BusLocation.route_id == f'{route_id}', BusLocation.bus_id == b, func.date(BusLocation.time) == d)\\\r\n",
        "        .order_by(BusLocation.time).all()\r\n",
        "\r\n",
        "      if stops:\r\n",
        "\r\n",
        "        stops = [ (s[0], s[1]) for s in stops]\r\n",
        "        runs += bus_stops_runs_count(stops)\r\n",
        "\r\n",
        "\r\n",
        "    runs_array.append ( (d, runs) )\r\n",
        "  return runs_array\r\n",
        "\r\n",
        "\r\n",
        "\r\n",
        "def get_avg_traffic(route_id):\r\n",
        "  \r\n",
        "  days = session.query(BusLocation.time).group_by(func.date(BusLocation.time)).filter(BusLocation.route_id == f'{route_id}').order_by(BusLocation.time).all()\r\n",
        "  days = [ d[0].date() for d in days ]\r\n",
        "\r\n",
        "  res = []\r\n",
        "  for d in tqdm(days):\r\n",
        "    states = session.query(RouteStopState.state, func.count('*'))\\\r\n",
        "        .filter(RouteStopState.route_id == f'{route_id}', func.date(RouteStopState.time) == d )\\\r\n",
        "        .group_by(RouteStopState.state).all()\r\n",
        "    res.append((d, *states))\r\n",
        "  return res\r\n",
        "\r\n",
        "\r\n"
      ],
      "execution_count": null,
      "outputs": []
    },
    {
      "cell_type": "code",
      "metadata": {
        "id": "x_XdLLjQeepr"
      },
      "source": [
        ""
      ],
      "execution_count": null,
      "outputs": []
    },
    {
      "cell_type": "markdown",
      "metadata": {
        "id": "kqEQXwxY6E4c"
      },
      "source": [
        "Code to plot the graph for real vs declared departures"
      ]
    },
    {
      "cell_type": "code",
      "metadata": {
        "id": "v9NIYWNib4Fj"
      },
      "source": [
        "%matplotlib inline\r\n",
        "from random import choice\r\n",
        "import numpy as np\r\n",
        "session.rollback()\r\n",
        "\r\n",
        "\r\n",
        "def plot_departures(line_id, route_id, save=False):\r\n",
        "  actual_runs = get_daily_runs((route_id))\r\n",
        "  sched_runs = session.query(func.count(RouteDeparture.time),RouteDeparture.day).filter(RouteDeparture.route_id == route_id).group_by(RouteDeparture.day).all()\r\n",
        "\r\n",
        "  y1_dic = {s[1]: s[0] for s in sched_runs }\r\n",
        "  y2_dic = {datetime.strptime(xi, \"%Y-%m-%d\" ).date():yi for xi,yi in actual_runs }\r\n",
        "\r\n",
        "  y_tot = []\r\n",
        "  x_tot = []\r\n",
        "  for x in sorted(list(set(y1_dic.keys()).union(set(y2_dic.keys())))):\r\n",
        "    y_tot.append((y1_dic.get(x,0), y2_dic.get(x,0)))\r\n",
        "    x_tot.append(x)\r\n",
        "\r\n",
        "  _, ax = plt.subplots(1,1,figsize=(30,5))\r\n",
        "\r\n",
        "\r\n",
        "  x_nums = np.arange(len(x_tot))  \r\n",
        "  y1, y2 = zip(*y_tot)\r\n",
        "  ax.bar(x_tot , y1, 0.5, label =  'Scheduled Departures', color='white', edgecolor='black')\r\n",
        "  ax.bar(x_tot , y2, 0.5, label =  'Actual Departures', color='red', alpha=0.6)\r\n",
        "  ax.legend()\r\n",
        "  ax.set_title( f'Expected vs Actual Departures on route:{route_id} @ line:{line_id}')\r\n",
        "  ax.set_ylabel('Departures')\r\n",
        "  ax.set_xlabel('Day')\r\n",
        "  ax.axvline(datetime(year=2020, month=3, day=9),0,0.8, c='black', label='Lockdown begins' )\r\n",
        "  ax.axvline(datetime(year=2020, month=5, day=4),0,0.8, c='black', label='Lockdown eased' )\r\n",
        "  ax.axvline(datetime(year=2020, month=5, day=18),0,0.8, c='black', label='Lockdown ends' )\r\n",
        "\r\n",
        "  ah = int( max(max(y1), max(y2))*0.8)\r\n",
        "  plt.annotate('Lockdown \\n begins', (datetime(year=2020, month=3, day=9),ah))\r\n",
        "  plt.annotate('Lockdown \\n eased', (datetime(year=2020, month=5, day=4),ah))\r\n",
        "  plt.annotate('Lockdown \\n ends', (datetime(year=2020, month=5, day=18),ah))\r\n",
        "  if save:\r\n",
        "    plt.savefig(join(assets_path,f'Departures-{line_id}r{route_id}' ) )\r\n",
        "    plt.show()\r\n",
        "\r\n",
        "\r\n"
      ],
      "execution_count": null,
      "outputs": []
    },
    {
      "cell_type": "markdown",
      "metadata": {
        "id": "y2TQT9d36Lmh"
      },
      "source": [
        "Code to plot average and peak buses per crawl"
      ]
    },
    {
      "cell_type": "code",
      "metadata": {
        "id": "rPvFCjccio-Q"
      },
      "source": [
        "%matplotlib inline\r\n",
        "from random import choice\r\n",
        "import numpy as np\r\n",
        "session.rollback()\r\n",
        "\r\n",
        "\r\n",
        "def plot_avg_buses(line_id, route_id, save=False):\r\n",
        "  actual_runs = get_daily_runs((route_id))\r\n",
        "  \r\n",
        "  sub_q = session.query(BusLocation.time,func.count('*').label('count')).filter(BusLocation.route_id == route_id).group_by(BusLocation.time).subquery()\r\n",
        "  avg_buses_day = session.query(sub_q.c.time, func.max(sub_q.c.count)).group_by(func.date(sub_q.c.time)).all()\r\n",
        "\r\n",
        "\r\n",
        "  avg_buses_crawl = session.query(sub_q.c.time, func.avg(sub_q.c.count)).group_by(func.date(sub_q.c.time)).all()\r\n",
        "\r\n",
        "\r\n",
        "  y1_dic = {xi.date():yi for xi,yi in avg_buses_day }\r\n",
        "  y2_dic = {xi.date():yi for xi,yi in avg_buses_crawl }\r\n",
        "\r\n",
        "  y_tot = []\r\n",
        "  x_tot = []\r\n",
        "  for x in sorted(list(set(y1_dic.keys()).union(set(y2_dic.keys())))):\r\n",
        "    y_tot.append((y1_dic.get(x,0), y2_dic.get(x,0)))\r\n",
        "    x_tot.append(x)\r\n",
        "\r\n",
        "  _, ax = plt.subplots(1,1,figsize=(30,5))\r\n",
        "\r\n",
        "\r\n",
        "  x_nums = np.arange(len(x_tot))  \r\n",
        "  y1, y2 = zip(*y_tot)\r\n",
        "  ax.bar(x_tot , y2, 0.5, label =  'Average Buses on Route', color='red', alpha=0.8)\r\n",
        "  ax.bar(x_tot , y1, 0.5, label =  'Peak Buses on Route Departures', color='grey', edgecolor='black', alpha=0.4)\r\n",
        "  \r\n",
        "  ax.legend()\r\n",
        "  ax.set_title( f'Peak and Average of Buses per Crawl on route:{route_id} @ line:{line_id}')\r\n",
        "  ax.set_ylabel('BusesCount')\r\n",
        "  ax.set_xlabel('Day')\r\n",
        "\r\n",
        "\r\n",
        "  ah = int( max(max(y1), max(y2))*0.8)\r\n",
        "  ax.axvline(datetime(year=2020, month=3, day=9),0,0.8, c='black', label='Lockdown begins' )\r\n",
        "  ax.axvline(datetime(year=2020, month=5, day=4),0,0.8, c='black', label='Lockdown eased' )\r\n",
        "  ax.axvline(datetime(year=2020, month=5, day=18),0,0.8, c='black', label='Lockdown ends' )\r\n",
        "  plt.annotate('Lockdown \\n begins', (datetime(year=2020, month=3, day=9),ah))\r\n",
        "  plt.annotate('Lockdown \\n eased', (datetime(year=2020, month=5, day=4),ah))\r\n",
        "  plt.annotate('Lockdown \\n ends', (datetime(year=2020, month=5, day=18),ah))\r\n",
        "  if save:\r\n",
        "    plt.savefig(join(assets_path,f'BusesCount-{line_id}r{route_id}' ) )\r\n",
        "    plt.show()\r\n"
      ],
      "execution_count": null,
      "outputs": []
    },
    {
      "cell_type": "markdown",
      "metadata": {
        "id": "D3AbIndp6Scf"
      },
      "source": [
        "Code to plot average daily traffic"
      ]
    },
    {
      "cell_type": "code",
      "metadata": {
        "id": "pCxWQzX-6Sv7"
      },
      "source": [
        "\r\n",
        "def plot_avg_traffic(line_id, route_id, save=False):\r\n",
        "  ## \r\n",
        "  r = get_avg_traffic(route_id)\r\n",
        "\r\n",
        "  y = []\r\n",
        "  x = []\r\n",
        "  for daytuple in r:\r\n",
        "    date= daytuple[0]\r\n",
        "    x.append(datetime(year = 2020, month=date.month, day=date.day))\r\n",
        "    counts = [0]*6\r\n",
        "    for state, num in daytuple[1:]:\r\n",
        "      if state in [0,1,2,3,4]:\r\n",
        "        counts[state] = num\r\n",
        "      else:\r\n",
        "        counts[-1] = num\r\n",
        "\r\n",
        "    y.append(counts)\r\n",
        "  y = list(zip(*y))\r\n",
        "\r\n",
        "  bottom = np.zeros(len(x))\r\n",
        "  colors = [  'green', 'yellow', 'orange', 'red','white', ][::-1] +['black']\r\n",
        "\r\n",
        "  _, ax = plt.subplots(1,1,figsize=(30,5))\r\n",
        "  for e, yi in enumerate(y):\r\n",
        "    y_arr = np.array(yi)\r\n",
        "    if e == 5:\r\n",
        "      e = -1\r\n",
        "    ax.bar(x , y_arr, 0.5, bottom=bottom, label =  f'State {e}', color=colors[e], edgecolor='black', alpha=0.6)\r\n",
        "    bottom  += y_arr\r\n",
        "\r\n",
        "\r\n",
        "  ax.legend()\r\n",
        "  ax.set_title( f'Cumulative traffic situation on route:{route_id} @ line:{line_id}')\r\n",
        "  ax.set_ylabel('TrafficStates')\r\n",
        "  ax.set_xlabel('Day')\r\n",
        "\r\n",
        "\r\n",
        "  ah = int( max([max(yi) for yi in y])*0.8)\r\n",
        "  # ax.axvline(datetime(year=2020, month=3, day=9),0,0.8, c='black', label='Lockdown begins' )\r\n",
        "  # ax.axvline(datetime(year=2020, month=5, day=4),0,0.8, c='black', label='Lockdown eased' )\r\n",
        "  # ax.axvline(datetime(year=2020, month=5, day=18),0,0.8, c='black', label='Lockdown ends' )\r\n",
        "  # plt.annotate('Lockdown \\n begins', (datetime(year=2020, month=3, day=9),ah))\r\n",
        "  # plt.annotate('Lockdown \\n eased', (datetime(year=2020, month=5, day=4),ah))\r\n",
        "  # plt.annotate('Lockdown \\n ends', (datetime(year=2020, month=5, day=18),ah))\r\n",
        "  if save:\r\n",
        "    plt.savefig(join(assets_path,f'Traffic-{line_id}r{route_id}' ) )\r\n",
        "    plt.show()\r\n",
        "\r\n"
      ],
      "execution_count": null,
      "outputs": []
    },
    {
      "cell_type": "markdown",
      "metadata": {
        "id": "BscFFlRo6nLP"
      },
      "source": [
        "Plot and save all the graphs"
      ]
    },
    {
      "cell_type": "code",
      "metadata": {
        "colab": {
          "base_uri": "https://localhost:8080/",
          "height": 1000,
          "referenced_widgets": [
            "78364911d4b44b5da2590ed407d53032",
            "3eb38fb97e46479fba8bc54165e33800",
            "a176b929c60a45f58137d560c5e3ca76",
            "258e0f864b2b4a80a76474fb353c05ee",
            "a4c16b0038ac4ef58b3313f07e90535e",
            "8346d2b7188f4dc5af4ec937b15e7576",
            "51a8beb673774f6b917959b0626b8d48",
            "93be8bbe05b7446a91ca79cfcc013070",
            "0bbcfbc3d51d44c6ba87fe73aa1b6d23",
            "4fb25435a4a34f91922db5a15956dda3",
            "dee448f802db42a6b117318a8b3f296c",
            "9ea74485b87f457e809caa809b4b788f",
            "78098ca975fb454a871c78b8d65e5bbe",
            "db43eb4839444d6c865958a960b428a7",
            "b3e7316536644ffa945c4c3b91a7fa45",
            "b91aa56b088544e3b073c06965be41e8",
            "571ffb7bf191422a83e7611003329fb0",
            "75412cedc81a42fe8b9eb741ca51c4a1",
            "e729b657048b48d59d6c673d184b7518",
            "5f514589681d47e59d44a23e787e2a50",
            "fab24d14cf3a46188383e0ffc407d8f3",
            "74d9ba352bb94da9af0f8d9417381237",
            "c882b5156b86414da8999667c6f7bc9c",
            "ef40874439ab4d6481fc53502e39cddc",
            "a247ebe9ee284adab46d31340e5f540e",
            "cd4c66663d1d49b7a85b53539d965e0f",
            "9b2e205893884ff3beaefa29ae05b6c0",
            "c7ba7ba5af5f45918190f328d03ffea2",
            "52b3e61a5b3b42538bc47a2a38f918ca",
            "7c9710ff83074e23af8e4836bfb4a692",
            "883e8a07a6b44a4e823b8c9e2c3d7582",
            "99ce222e29d349dc8a30f30a9ef32146",
            "dce940aa10f14045905ffe85cadc0a56",
            "5fe41f4f4f8245158d0bc1c42d9bf341",
            "8d1b051f972c4b1ea8b83389d6c527b1",
            "0968159e69e64355bcc2a93fa1d00201",
            "e615cfdcb3ca4d5da20ecd788c3adb75",
            "5c9ca656338c4141800d9b54f6ddf668",
            "7eb76a41e8634a7fbb49dd200d2a3eae",
            "ebbf2901d5c34ff3a66efac4b1b4cce1",
            "b07205f099054dd8bc7ef2334d9cec63",
            "8f2dc74c57434baf9739e0cbe9f49014",
            "3d2e61cbb8654df78cb21230bd0a3a2d",
            "05fe03387c304f51860da70d076c3c5a",
            "ab1e89f742af4b1892e408ee4caf5dcf",
            "7816c5e43b2e47cdaa55eda7947a518b",
            "df61dc294d4c4bbe93c985f8408e46f0",
            "29a6bdbc387944c3909782c38442d4be",
            "814b61ca09a04979b04a36b40e93ed94",
            "9612bd8855cf481d995dc35ea478c165",
            "e6db2bd9ff60475cb4362e318fd8c7c5",
            "fb28e624607d42c59efc4bfec76ebb5a",
            "a634e4ece9124ab194e56052c72bdbda",
            "4512a8d4654d422097602c9f6dfc3931",
            "d3021518e2d2432b9014da9f01457031",
            "f00b398052504a499babf309daffe97f",
            "b27862eddb294cf79fc7ecc2765c7d0e",
            "95d0c660c8054a32b84bc73706cc1159",
            "4e3e61446a9f4178be63a4f5cb4d9ac6",
            "675f83d5498e4da8a5de8a512fb13707",
            "9cbc60f7a5614e6e87407fcce950c7f0",
            "715cda95789a4bd39fe25c63e031df64",
            "c3a1fcf681b24c37a8d551b46539be89",
            "d650bed19d3f4de4a5037349d313eef4",
            "86717bc5c5b94043a6ceb539ffe14c14",
            "e27757948ccd42a79e00cec836f5dd63",
            "aad5cb6fda5f41ceb6d52bfab7d980b9",
            "14b108f9899e4d09ba9a7e1ae86cc0db",
            "28a368c02cce41e89723c9cd801d765b",
            "13857f3995c1494c9a8ca62fde2f0225",
            "887f48c78f4149c88a12b97361dc228d",
            "9d926f29d59e4104aadd7fc4c3b76d5f",
            "0208091d769d4b8cb0b1834131935c0d",
            "d45a3df20f99493380529900c1d7eb8e",
            "d3cfebc9eae7498d8bfef37f863d5077",
            "e8fa68c3cddf4a0fbabaee0de23d9216",
            "4765af60494e4d04a70e234471d0baaf",
            "6efc3e1a565d40e2a42b322879aff59b",
            "d0e281bd2a584f1a99d4c3ced4487609",
            "b804e415cccb4250b58685d236fdff56"
          ]
        },
        "id": "yFMKsHhAm10D",
        "outputId": "ca4deff4-1a02-4a38-8c6a-0b15aa0c5570"
      },
      "source": [
        "session.rollback()\r\n",
        "\r\n",
        "\r\n",
        "for line_id in ['88','337', '14', '341', '60']:\r\n",
        "  for route_id in session.query(distinct(RouteStop.route_id)).filter(RouteStop.line_id == line_id).all():\r\n",
        "    plot_departures(line_id, route_id[0], True)\r\n",
        "    plot_avg_buses(line_id, route_id[0], True)\r\n",
        "    plot_avg_traffic(line_id, route_id[0], True)\r\n",
        "    break"
      ],
      "execution_count": null,
      "outputs": [
        {
          "output_type": "display_data",
          "data": {
            "application/vnd.jupyter.widget-view+json": {
              "model_id": "78364911d4b44b5da2590ed407d53032",
              "version_minor": 0,
              "version_major": 2
            },
            "text/plain": [
              "HBox(children=(FloatProgress(value=0.0, max=53.0), HTML(value='')))"
            ]
          },
          "metadata": {
            "tags": []
          }
        },
        {
          "output_type": "stream",
          "text": [
            "\n"
          ],
          "name": "stdout"
        },
        {
          "output_type": "display_data",
          "data": {
            "image/png": "[encoded data removed]",
            "text/plain": [
              "<Figure size 2160x360 with 1 Axes>"
            ]
          },
          "metadata": {
            "tags": [],
            "needs_background": "light"
          }
        },
        {
          "output_type": "display_data",
          "data": {
            "application/vnd.jupyter.widget-view+json": {
              "model_id": "0bbcfbc3d51d44c6ba87fe73aa1b6d23",
              "version_minor": 0,
              "version_major": 2
            },
            "text/plain": [
              "HBox(children=(FloatProgress(value=0.0, max=53.0), HTML(value='')))"
            ]
          },
          "metadata": {
            "tags": []
          }
        },
        {
          "output_type": "stream",
          "text": [
            "\n"
          ],
          "name": "stdout"
        },
        {
          "output_type": "display_data",
          "data": {
            "image/png": "[encoded data removed]",
            "text/plain": [
              "<Figure size 2160x360 with 1 Axes>"
            ]
          },
          "metadata": {
            "tags": [],
            "needs_background": "light"
          }
        },
        {
          "output_type": "display_data",
          "data": {
            "application/vnd.jupyter.widget-view+json": {
              "model_id": "571ffb7bf191422a83e7611003329fb0",
              "version_minor": 0,
              "version_major": 2
            },
            "text/plain": [
              "HBox(children=(FloatProgress(value=0.0, max=85.0), HTML(value='')))"
            ]
          },
          "metadata": {
            "tags": []
          }
        },
        {
          "output_type": "stream",
          "text": [
            "\n"
          ],
          "name": "stdout"
        },
        {
          "output_type": "display_data",
          "data": {
            "image/png": "[encoded data removed]",
            "text/plain": [
              "<Figure size 2160x360 with 1 Axes>"
            ]
          },
          "metadata": {
            "tags": [],
            "needs_background": "light"
          }
        },
        {
          "output_type": "display_data",
          "data": {
            "application/vnd.jupyter.widget-view+json": {
              "model_id": "a247ebe9ee284adab46d31340e5f540e",
              "version_minor": 0,
              "version_major": 2
            },
            "text/plain": [
              "HBox(children=(FloatProgress(value=0.0, max=85.0), HTML(value='')))"
            ]
          },
          "metadata": {
            "tags": []
          }
        },
        {
          "output_type": "stream",
          "text": [
            "\n"
          ],
          "name": "stdout"
        },
        {
          "output_type": "display_data",
          "data": {
            "image/png": "[encoded data removed]",
            "text/plain": [
              "<Figure size 2160x360 with 1 Axes>"
            ]
          },
          "metadata": {
            "tags": [],
            "needs_background": "light"
          }
        },
        {
          "output_type": "display_data",
          "data": {
            "application/vnd.jupyter.widget-view+json": {
              "model_id": "dce940aa10f14045905ffe85cadc0a56",
              "version_minor": 0,
              "version_major": 2
            },
            "text/plain": [
              "HBox(children=(FloatProgress(value=0.0, max=85.0), HTML(value='')))"
            ]
          },
          "metadata": {
            "tags": []
          }
        },
        {
          "output_type": "stream",
          "text": [
            "\n"
          ],
          "name": "stdout"
        },
        {
          "output_type": "display_data",
          "data": {
            "image/png": "[encoded data removed]",
            "text/plain": [
              "<Figure size 2160x360 with 1 Axes>"
            ]
          },
          "metadata": {
            "tags": [],
            "needs_background": "light"
          }
        },
        {
          "output_type": "display_data",
          "data": {
            "application/vnd.jupyter.widget-view+json": {
              "model_id": "b07205f099054dd8bc7ef2334d9cec63",
              "version_minor": 0,
              "version_major": 2
            },
            "text/plain": [
              "HBox(children=(FloatProgress(value=0.0, max=85.0), HTML(value='')))"
            ]
          },
          "metadata": {
            "tags": []
          }
        },
        {
          "output_type": "stream",
          "text": [
            "\n"
          ],
          "name": "stdout"
        },
        {
          "output_type": "display_data",
          "data": {
            "image/png": "[encoded data removed]",
            "text/plain": [
              "<Figure size 2160x360 with 1 Axes>"
            ]
          },
          "metadata": {
            "tags": [],
            "needs_background": "light"
          }
        },
        {
          "output_type": "display_data",
          "data": {
            "application/vnd.jupyter.widget-view+json": {
              "model_id": "814b61ca09a04979b04a36b40e93ed94",
              "version_minor": 0,
              "version_major": 2
            },
            "text/plain": [
              "HBox(children=(FloatProgress(value=0.0, max=81.0), HTML(value='')))"
            ]
          },
          "metadata": {
            "tags": []
          }
        },
        {
          "output_type": "stream",
          "text": [
            "\n"
          ],
          "name": "stdout"
        },
        {
          "output_type": "display_data",
          "data": {
            "image/png": "[encoded data removed]",
            "text/plain": [
              "<Figure size 2160x360 with 1 Axes>"
            ]
          },
          "metadata": {
            "tags": [],
            "needs_background": "light"
          }
        },
        {
          "output_type": "display_data",
          "data": {
            "application/vnd.jupyter.widget-view+json": {
              "model_id": "b27862eddb294cf79fc7ecc2765c7d0e",
              "version_minor": 0,
              "version_major": 2
            },
            "text/plain": [
              "HBox(children=(FloatProgress(value=0.0, max=81.0), HTML(value='')))"
            ]
          },
          "metadata": {
            "tags": []
          }
        },
        {
          "output_type": "stream",
          "text": [
            "\n"
          ],
          "name": "stdout"
        },
        {
          "output_type": "display_data",
          "data": {
            "image/png": "[encoded data removed]",
            "text/plain": [
              "<Figure size 2160x360 with 1 Axes>"
            ]
          },
          "metadata": {
            "tags": [],
            "needs_background": "light"
          }
        },
        {
          "output_type": "display_data",
          "data": {
            "application/vnd.jupyter.widget-view+json": {
              "model_id": "86717bc5c5b94043a6ceb539ffe14c14",
              "version_minor": 0,
              "version_major": 2
            },
            "text/plain": [
              "HBox(children=(FloatProgress(value=0.0, max=37.0), HTML(value='')))"
            ]
          },
          "metadata": {
            "tags": []
          }
        },
        {
          "output_type": "stream",
          "text": [
            "\n"
          ],
          "name": "stdout"
        },
        {
          "output_type": "display_data",
          "data": {
            "image/png": "[encoded data removed]",
            "text/plain": [
              "<Figure size 2160x360 with 1 Axes>"
            ]
          },
          "metadata": {
            "tags": [],
            "needs_background": "light"
          }
        },
        {
          "output_type": "display_data",
          "data": {
            "application/vnd.jupyter.widget-view+json": {
              "model_id": "0208091d769d4b8cb0b1834131935c0d",
              "version_minor": 0,
              "version_major": 2
            },
            "text/plain": [
              "HBox(children=(FloatProgress(value=0.0, max=37.0), HTML(value='')))"
            ]
          },
          "metadata": {
            "tags": []
          }
        },
        {
          "output_type": "stream",
          "text": [
            "\n"
          ],
          "name": "stdout"
        },
        {
          "output_type": "display_data",
          "data": {
            "image/png": "[encoded data removed]",
            "text/plain": [
              "<Figure size 2160x360 with 1 Axes>"
            ]
          },
          "metadata": {
            "tags": [],
            "needs_background": "light"
          }
        }
      ]
    }
  ]
}